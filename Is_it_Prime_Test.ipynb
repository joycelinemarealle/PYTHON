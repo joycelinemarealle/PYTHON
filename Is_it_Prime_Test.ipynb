{
  "nbformat": 4,
  "nbformat_minor": 0,
  "metadata": {
    "colab": {
      "provenance": []
    },
    "kernelspec": {
      "name": "python3",
      "display_name": "Python 3"
    },
    "language_info": {
      "name": "python"
    }
  },
  "cells": [
    {
      "cell_type": "markdown",
      "source": [
        "# Write a program that list all prime numbers from 1 to 100\n"
      ],
      "metadata": {
        "id": "5wLyRR0fLBS7"
      }
    },
    {
      "cell_type": "code",
      "source": [
        "# prime divide itself or by 1 eg 1,3,5,7,11,13\n",
        "#a whole number greater than 1 that cannot be exactly divided by any whole number other than itself and 1\n",
        "# has to greater than 1\n",
        "\n",
        "\n",
        "# Start by iterating through each number from 1 to 100\n",
        "for n in range(1,101):\n",
        "  is_prime =True\n",
        "\n",
        "# A number is not prime if it's less than 2\n",
        "  if n <2 :\n",
        "    is_prime = False\n",
        "  else:\n",
        "   # Check if n is divisible by any number between 2 and n-1\n",
        "    for i in range (2,n):\n",
        "      # If n is divisible by i, then n is not a prime number\n",
        "      if n % i == 0:\n",
        "        is_prime = False\n",
        "        break # No need to check further; exit the inner loop\n",
        "   # If is_prime is still True, then n is a prime number\n",
        "  if is_prime:\n",
        "    print(n, 'is a prime number')\n"
      ],
      "metadata": {
        "colab": {
          "base_uri": "https://localhost:8080/"
        },
        "id": "vYvhO8YJK-2H",
        "outputId": "980218bd-b704-4d77-9870-55e119919842"
      },
      "execution_count": 1,
      "outputs": [
        {
          "output_type": "stream",
          "name": "stdout",
          "text": [
            "2 is a prime number\n",
            "3 is a prime number\n",
            "5 is a prime number\n",
            "7 is a prime number\n",
            "11 is a prime number\n",
            "13 is a prime number\n",
            "17 is a prime number\n",
            "19 is a prime number\n",
            "23 is a prime number\n",
            "29 is a prime number\n",
            "31 is a prime number\n",
            "37 is a prime number\n",
            "41 is a prime number\n",
            "43 is a prime number\n",
            "47 is a prime number\n",
            "53 is a prime number\n",
            "59 is a prime number\n",
            "61 is a prime number\n",
            "67 is a prime number\n",
            "71 is a prime number\n",
            "73 is a prime number\n",
            "79 is a prime number\n",
            "83 is a prime number\n",
            "89 is a prime number\n",
            "97 is a prime number\n"
          ]
        }
      ]
    },
    {
      "cell_type": "code",
      "source": [],
      "metadata": {
        "id": "3D8oSupmLGMh"
      },
      "execution_count": null,
      "outputs": []
    }
  ]
}