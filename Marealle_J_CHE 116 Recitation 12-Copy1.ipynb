{
 "cells": [
  {
   "cell_type": "markdown",
   "metadata": {
    "scrolled": false
   },
   "source": [
    "# Recitation 11 - ODE's and Error Propagation"
   ]
  },
  {
   "cell_type": "code",
   "execution_count": 10,
   "metadata": {},
   "outputs": [],
   "source": [
    "import numpy as np\n",
    "import matplotlib.pyplot as plt\n",
    "import scipy.stats as ss\n",
    "from scipy.integrate import odeint"
   ]
  },
  {
   "cell_type": "markdown",
   "metadata": {},
   "source": [
    "## Numerical Integration"
   ]
  },
  {
   "cell_type": "markdown",
   "metadata": {},
   "source": [
    "### Rearranging ODE's"
   ]
  },
  {
   "cell_type": "markdown",
   "metadata": {},
   "source": [
    "Convert the following ODEs into standard form. If it is a second-order, make sure you specify both dimensions.\n",
    "\n",
    " 1. $\\frac{dx}{dt} - t = 2$\n",
    " \n",
    " 2. $\\frac{dx}{dt} = -rx$\n",
    " \n",
    " 3. $\\frac{d^2x}{dt^2} + k x = \\sin t$\n",
    " \n",
    " 4. $\\frac{d^2x}{dt^2} + b \\frac{dx}{dt} + k x = 0$"
   ]
  },
  {
   "cell_type": "markdown",
   "metadata": {},
   "source": [
    "1. $\\frac{dx}{dt} = t+2$\n",
    " \n",
    "2. $\\frac{dx}{dt} = -rx$\n",
    "\n",
    "3. $\\frac{dx_0}{dt}=x_0$ <br>\n",
    "$\\frac{dx_1}{dt}=sin(t)-k_0$\n",
    "#if second derivative need two equations to specifiy it x_1= dx/xt  dx_1/ dt= second derivative\n",
    " \n",
    "4. $\\frac{d^2x}{dt^2} + b \\frac{dx}{dt} + k x = 0$\n",
    "\n",
    "5$\\frac{dx_0}{dt}=x_0$ <br>\n",
    "$\\frac{dx_1}{dt}=-bx_1-kx_0$\n"
   ]
  },
  {
   "cell_type": "code",
   "execution_count": 11,
   "metadata": {},
   "outputs": [
    {
     "ename": "NameError",
     "evalue": "name 'd' is not defined",
     "output_type": "error",
     "traceback": [
      "\u001b[0;31m---------------------------------------------------------------------------\u001b[0m",
      "\u001b[0;31mNameError\u001b[0m                                 Traceback (most recent call last)",
      "\u001b[0;32m<ipython-input-11-e983f374794d>\u001b[0m in \u001b[0;36m<module>\u001b[0;34m()\u001b[0m\n\u001b[0;32m----> 1\u001b[0;31m \u001b[0md\u001b[0m\u001b[0;34m\u001b[0m\u001b[0m\n\u001b[0m",
      "\u001b[0;31mNameError\u001b[0m: name 'd' is not defined"
     ]
    }
   ],
   "source": [
    "d"
   ]
  },
  {
   "cell_type": "markdown",
   "metadata": {},
   "source": []
  },
  {
   "cell_type": "markdown",
   "metadata": {},
   "source": [
    "### Example: Tank"
   ]
  },
  {
   "cell_type": "markdown",
   "metadata": {},
   "source": [
    "For a tank:\n",
    "\n",
    "$$\\frac{dV}{dt} + k_1 \\sqrt{V} = k_2$$\n",
    "\n",
    "and use $k_1 = 1$, $k_2 = 4$. Plot the solution from $t=0$ to $t=25$ with the initial condition that $V_0 = 10$."
   ]
  },
  {
   "cell_type": "markdown",
   "metadata": {},
   "source": []
  },
  {
   "cell_type": "code",
   "execution_count": 16,
   "metadata": {},
   "outputs": [
    {
     "data": {
      "image/png": "[encoded data removed]",
      "text/plain": [
       "<Figure size 432x288 with 1 Axes>"
      ]
     },
     "metadata": {},
     "output_type": "display_data"
    }
   ],
   "source": [
    "from scipy.integrate import odeint#  first th depedent variable then idependent\n",
    "def tank (V,t): \n",
    "    return k2-k1*np.sqrt(V)\n",
    "k1=1\n",
    "k2=4\n",
    "V0=10\n",
    "t=np.linspace(0,25,100)\n",
    "Vodeint= odeint(tank,V0,t)\n",
    "plt.plot(t,Vodeint)\n",
    "plt.show()#plot of volume over time"
   ]
  },
  {
   "cell_type": "markdown",
   "metadata": {},
   "source": [
    "### Example: Heat Fin"
   ]
  },
  {
   "cell_type": "markdown",
   "metadata": {},
   "source": [
    "An energy balance for an isotropic fin with constant shape and cross-sectional area made of a material whose properties do not change with temperature gives\n",
    "\n",
    "$$\\frac{d^2T}{dx^2} - m^2(T - T_\\infty) = 0$$\n",
    "\n",
    "where\n",
    "\n",
    "$$m = \\sqrt{\\frac{hP}{kA}}$$\n",
    "\n",
    "Solve for the temperature at the end of the fin for a cylindrical fin with a **1/2 in. diameter**, a **length of 6 in.**, a **k (thermal conductivity) of 5.82 W/in. K**, an **h (convective heat transfer coefficient) of 0.0354 W/in.^2 K**, and a **bulk temperature of ($T_\\infty$) 300K**. The initial conditions are\n",
    "\n",
    "$$T(0) = 373 K$$\n",
    "\n",
    "$$\\left. \\frac{dT}{dx}\\right |_{x = 0} = -17.8 K/in.$$"
   ]
  },
  {
   "cell_type": "markdown",
   "metadata": {},
   "source": []
  },
  {
   "cell_type": "markdown",
   "metadata": {},
   "source": [
    "$$T_1=\\frac{dT_0}{dx}$$\n",
    "$$\\frac{dT_1}{dx}=m^2(T_0-T_\\infty)$$"
   ]
  },
  {
   "cell_type": "code",
   "execution_count": 22,
   "metadata": {},
   "outputs": [
    {
     "data": {
      "image/png": "[encoded data removed]",
      "text/plain": [
       "<Figure size 432x288 with 1 Axes>"
      ]
     },
     "metadata": {},
     "output_type": "display_data"
    }
   ],
   "source": [
    "def fin(T,x):\n",
    "    T0=T[0]\n",
    "    T1=T[1]\n",
    "    m=np.sqrt(h*P/(k*A)) #perimeter -P and area = A\n",
    "    return T1,m**2*(T0-Tb)\n",
    "d=0.5\n",
    "L=6\n",
    "k=5.82\n",
    "h=0.0354\n",
    "Tb=300\n",
    "T0=373\n",
    "dTdx0=-17.8\n",
    "P=np.pi*d\n",
    "A=np.pi*d**2/4\n",
    "xfin=np.linspace(0,L,100)\n",
    "Todeint=odeint(fin,[T0,dTdx0],xfin)\n",
    "T=Todeint[:,0] #first column\n",
    "dTdx=Todeint[:,1] #first column\n",
    "#plt.plot(xfin,Todeint)\n",
    "plt.plot(xfin,T)\n",
    "plt.show()\n",
    "print('Temperature at the end of the fin is {:.3} k'.format(T[-1]))"
   ]
  },
  {
   "cell_type": "markdown",
   "metadata": {},
   "source": [
    "## Error Propagation"
   ]
  },
  {
   "cell_type": "markdown",
   "metadata": {},
   "source": [
    "$$\\frac{\\Delta y}{\\Delta x} \\approx \\left. \\frac{dy}{dx}\\right |_{x = \\hat x}$$\n",
    "\n",
    "$$\\Delta y = \\left. \\frac{dy}{dx}\\right |_{x = \\hat x} \\Delta x$$ "
   ]
  },
  {
   "cell_type": "markdown",
   "metadata": {},
   "source": [
    "https://nbviewer.jupyter.org/github/whitead/numerical_stats/blob/master/unit_13/lectures/lecture_2.ipynb"
   ]
  },
  {
   "cell_type": "markdown",
   "metadata": {},
   "source": [
    "1. You are measuring the volume (in cm^3) of various samples of mass 1kg. The data is listed below as V. What is the error in density?\n",
    "\n",
    "2. You are measuring the heights, widths, and lengths (in cm) of various boxes that are (supposed to) have the same volume. The data is listed below as h, l, and w. What is the error in volume?"
   ]
  },
  {
   "cell_type": "code",
   "execution_count": 24,
   "metadata": {},
   "outputs": [],
   "source": [
    "np.random.seed(1234)\n",
    "\n",
    "V = ss.norm.rvs(loc = 10, scale = 1, size = 10)\n",
    "h = ss.norm.rvs(loc = 2, scale = 0.25, size = 10)\n",
    "l = ss.norm.rvs(loc = 4, scale = 1, size = 10)\n",
    "w = ss.norm.rvs(loc = 3, scale = 0.5, size = 10)"
   ]
  },
  {
   "cell_type": "markdown",
   "metadata": {},
   "source": []
  },
  {
   "cell_type": "markdown",
   "metadata": {},
   "source": [
    "$$\\Delta=\\rho -\\frac{m}{\\hat V^2}\\Delta V$$"
   ]
  },
  {
   "cell_type": "code",
   "execution_count": 31,
   "metadata": {},
   "outputs": [
    {
     "name": "stdout",
     "output_type": "stream",
     "text": [
      "0.101 +/-b0.00816\n"
     ]
    }
   ],
   "source": [
    "Vmean=np.mean(V)\n",
    "Vstd=np.std(V,ddof=1) #t distribution so that is the std\n",
    "m=1 #just said \n",
    "#t because have 10 points\n",
    "t=ss.t.ppf(0.975,df=len(V)-1)\n",
    "DV=t*Vstd/np.sqrt(len(V))\n",
    "Drho=-m/Vmean**2*(DV)\n",
    "print('{:.3} +/-b{:.3}'.format(m/Vmean,abs(Drho)))"
   ]
  },
  {
   "cell_type": "markdown",
   "metadata": {},
   "source": []
  },
  {
   "cell_type": "markdown",
   "metadata": {},
   "source": [
    "$$\\Delta V= \\sqrt{(\\hat w \\hat h \\Delta l)^2 +(\\hat l \\hat h \\Delta w)^2 + (\\hat l \\hat w \\Delta h )^2}$$"
   ]
  },
  {
   "cell_type": "code",
   "execution_count": 40,
   "metadata": {},
   "outputs": [
    {
     "name": "stdout",
     "output_type": "stream",
     "text": [
      "27.0+ +/- 5.74\n"
     ]
    }
   ],
   "source": [
    "lmean=np.mean(l)\n",
    "wmean=np.mean(w)\n",
    "hmean=np.mean(h)\n",
    "lstd=np.std(l,ddof=1)\n",
    "wstd=np.std(w,ddof=1)\n",
    "hstd=np.std(h,ddof=1)\n",
    "t=ss.t.ppf(0.975,df=len(l)-1)\n",
    "Dl=t*lstd/np.sqrt(len(l))\n",
    "Dw=t*wstd/np.sqrt(len(w))\n",
    "Dh=t*hstd/np.sqrt(len(h))\n",
    "DV=np.sqrt((wmean*hmean*Dl)**2+(lmean*hmean*Dw)**2 + (lmean*wmean*Dh)**2)\n",
    "print('{:.3}+ +/- {:.3}'.format(lmean*wmean*hmean,DV)) #erros is larger than the individuals"
   ]
  },
  {
   "cell_type": "markdown",
   "metadata": {},
   "source": [
    "## Challenge: Particle in a Box"
   ]
  },
  {
   "cell_type": "markdown",
   "metadata": {},
   "source": [
    "The particle in a box is a classic physics thought experiment about a particle trapped in a one-dimensional box (although it can be extended to multiple dimensions). The probability of finding the particle at an x value is given by\n",
    "\n",
    "$$\\frac{d^2\\psi}{dx^2} = -k^2\\psi$$\n",
    "\n",
    "$$k = (\\frac{8 \\pi^2 m E}{h^2})^{1/2}$$\n",
    "\n",
    "$$h = 6.626\\times10^{-34} J s$$\n",
    "\n",
    "where m is the mass of the particle, E is the energy of the particle, and h is Planck's constant. The boundary conditions are\n",
    "\n",
    "$$\\psi(0) = 0$$\n",
    "\n",
    "$$\\psi(L) = 0$$\n",
    "\n",
    "Find the energy(ies) of the particle which satisfy this system."
   ]
  },
  {
   "cell_type": "markdown",
   "metadata": {},
   "source": []
  },
  {
   "cell_type": "code",
   "execution_count": null,
   "metadata": {
    "scrolled": false
   },
   "outputs": [],
   "source": []
  }
 ],
 "metadata": {
  "kernelspec": {
   "display_name": "Python 3",
   "language": "python",
   "name": "python3"
  },
  "language_info": {
   "codemirror_mode": {
    "name": "ipython",
    "version": 3
   },
   "file_extension": ".py",
   "mimetype": "text/x-python",
   "name": "python",
   "nbconvert_exporter": "python",
   "pygments_lexer": "ipython3",
   "version": "3.6.4"
  }
 },
 "nbformat": 4,
 "nbformat_minor": 2
}
