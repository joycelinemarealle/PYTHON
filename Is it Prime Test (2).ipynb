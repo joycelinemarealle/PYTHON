{
 "cells": [
  {
   "cell_type": "markdown",
   "metadata": {
    "id": "5wLyRR0fLBS7"
   },
   "source": [
    "# Write a program that list all prime numbers from 1 to 100\n"
   ]
  },
  {
   "cell_type": "code",
   "execution_count": 1,
   "metadata": {
    "id": "3D8oSupmLGMh"
   },
   "outputs": [
    {
     "name": "stdout",
     "output_type": "stream",
     "text": [
      "2 is prime\n",
      "3 is prime\n",
      "5 is prime\n",
      "7 is prime\n",
      "11 is prime\n",
      "13 is prime\n",
      "17 is prime\n",
      "19 is prime\n",
      "23 is prime\n",
      "29 is prime\n",
      "31 is prime\n",
      "37 is prime\n",
      "41 is prime\n",
      "43 is prime\n",
      "47 is prime\n",
      "53 is prime\n",
      "59 is prime\n",
      "61 is prime\n",
      "67 is prime\n",
      "71 is prime\n",
      "73 is prime\n",
      "79 is prime\n",
      "83 is prime\n",
      "89 is prime\n",
      "97 is prime\n"
     ]
    }
   ],
   "source": [
    "for i in range(2, 101):\n",
    "    is_prime = True  # Reset to True for each number checked\n",
    "    for j in range(2, int(i**0.5) + 1):  # Only go up to the square root of i\n",
    "        if i % j == 0:  # If i is divisible by any number other than 1 and itself\n",
    "            is_prime = False\n",
    "            break  # Found a divisor, no need to check further\n",
    "    if is_prime:\n",
    "        print(i, 'is prime')\n",
    "    else:\n",
    "        continue  # Skip the print statement for non-prime numbers to avoid repetition\n"
   ]
  },
  {
   "cell_type": "code",
   "execution_count": 1,
   "metadata": {
    "colab": {
     "base_uri": "https://localhost:8080/"
    },
    "executionInfo": {
     "elapsed": 10,
     "status": "ok",
     "timestamp": 1710523972888,
     "user": {
      "displayName": "Joyceline Marealle",
      "userId": "05536425303713949936"
     },
     "user_tz": 240
    },
    "id": "vYvhO8YJK-2H",
    "outputId": "980218bd-b704-4d77-9870-55e119919842"
   },
   "outputs": [
    {
     "name": "stdout",
     "output_type": "stream",
     "text": [
      "2 is a prime number\n",
      "3 is a prime number\n",
      "5 is a prime number\n",
      "7 is a prime number\n",
      "11 is a prime number\n",
      "13 is a prime number\n",
      "17 is a prime number\n",
      "19 is a prime number\n",
      "23 is a prime number\n",
      "29 is a prime number\n",
      "31 is a prime number\n",
      "37 is a prime number\n",
      "41 is a prime number\n",
      "43 is a prime number\n",
      "47 is a prime number\n",
      "53 is a prime number\n",
      "59 is a prime number\n",
      "61 is a prime number\n",
      "67 is a prime number\n",
      "71 is a prime number\n",
      "73 is a prime number\n",
      "79 is a prime number\n",
      "83 is a prime number\n",
      "89 is a prime number\n",
      "97 is a prime number\n"
     ]
    }
   ],
   "source": [
    "# prime divide itself or by 1 eg 1,3,5,7,11,13\n",
    "#a whole number greater than 1 that cannot be exactly divided by any whole number other than itself and 1\n",
    "# has to greater than 1\n",
    "\n",
    "\n",
    "# Start by iterating through each number from 1 to 100\n",
    "for n in range(1,101):\n",
    "  is_prime =True\n",
    "\n",
    "# A number is not prime if it's less than 2\n",
    "  if n <2 :\n",
    "    is_prime = False\n",
    "  else:\n",
    "   # Check if n is divisible by any number between 2 and n-1\n",
    "    for i in range (2,n):\n",
    "      # If n is divisible by i, then n is not a prime number\n",
    "      if n % i == 0:\n",
    "        is_prime = False\n",
    "        break # No need to check further; exit the inner loop\n",
    "   # If is_prime is still True, then n is a prime number\n",
    "  if is_prime:\n",
    "    print(n, 'is a prime number')\n"
   ]
  },
  {
   "cell_type": "code",
   "execution_count": null,
   "metadata": {},
   "outputs": [],
   "source": []
  }
 ],
 "metadata": {
  "colab": {
   "authorship_tag": "ABX9TyMrmABcZ4NTswZHWIzxv0cr",
   "provenance": []
  },
  "kernelspec": {
   "display_name": "Python 3 (ipykernel)",
   "language": "python",
   "name": "python3"
  },
  "language_info": {
   "codemirror_mode": {
    "name": "ipython",
    "version": 3
   },
   "file_extension": ".py",
   "mimetype": "text/x-python",
   "name": "python",
   "nbconvert_exporter": "python",
   "pygments_lexer": "ipython3",
   "version": "3.9.7"
  }
 },
 "nbformat": 4,
 "nbformat_minor": 1
}
