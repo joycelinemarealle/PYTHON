{
 "cells": [
  {
   "cell_type": "code",
   "execution_count": 29,
   "metadata": {},
   "outputs": [],
   "source": [
    "# This cell imports all necessary modules to analyze the data\n",
    "import numpy as np\n",
    "%matplotlib inline\n",
    "import random\n",
    "import matplotlib \n",
    "import matplotlib.pyplot as plt\n",
    "from math import  sqrt, pi\n",
    "import scipy\n",
    "import scipy.stats as ss\n",
    "# Sets the style of graphs that will be used\n",
    "plt.style.use('seaborn-notebook')"
   ]
  },
  {
   "cell_type": "code",
   "execution_count": 30,
   "metadata": {},
   "outputs": [],
   "source": [
    "# chirps = chirps per minute\n",
    "# temp = degrees farenheit\n",
    "chirps = [20, 16, 19.79999924, 18.39999962, 17.10000038, 15.5, 14.69999981, 17.10000038, 15.39999962, 16.20000076, 15, 17.20000076, 16, 17, 14.39999962]\n",
    "temp = [88.59999847, 71.59999847, 93.30000305, 84.30000305, 80.59999847, 75.19999695, 69.69999695, 82, 69.40000153, 83.30000305, 79.59999847, 82.59999847, 80.59999847, 83.5, 76.30000305]"
   ]
  },
  {
   "cell_type": "code",
   "execution_count": 31,
   "metadata": {},
   "outputs": [],
   "source": [
    "chirps = np.array(chirps)\n",
    "temp = np.array(temp)"
   ]
  },
  {
   "cell_type": "markdown",
   "metadata": {},
   "source": [
    "# 1.1 Linear Regression"
   ]
  },
  {
   "cell_type": "markdown",
   "metadata": {},
   "source": [
    "**Questions**\n",
    "\n",
    "1) What is the slope and intercept of a linear fit?\n",
    "\n",
    "2) Is the data well modeled by a linear fit? Justify with an $R^2$ value and at least one other method.\n",
    "\n",
    "3) Can we extrapolate the linear fit to temperatures beyond those in the dataset? If so, how far?"
   ]
  },
  {
   "cell_type": "code",
   "execution_count": 32,
   "metadata": {},
   "outputs": [
    {
     "data": {
      "image/png": "[encoded data removed]",
      "text/plain": [
       "<Figure size 576x396 with 1 Axes>"
      ]
     },
     "metadata": {},
     "output_type": "display_data"
    }
   ],
   "source": [
    "x=temp\n",
    "y=chirps\n",
    "plt.title('Chirps/min by temp in F')\n",
    "plt.plot(x,y,'o')\n",
    "plt.show()"
   ]
  },
  {
   "cell_type": "markdown",
   "metadata": {},
   "source": [
    "### From Lecture 12.1 \n",
    "\n",
    "We will assume our data can be modeled by the following linear equation:\n",
    "\n",
    "$$\\hat{y} = \\hat{\\alpha} + \\hat{\\beta}x$$"
   ]
  },
  {
   "cell_type": "markdown",
   "metadata": {},
   "source": [
    "From the notes, we also see that:\n",
    "\n",
    "$$\\hat{\\beta} = \\frac{\\sigma_{xy}}{\\sigma_x^2}$$\n",
    "where $\\sigma_{xy}$ is the sample covariance of $x$ and $y$ and $\\sigma_x^2$ is the sample variance of $x$.\n",
    "\n",
    "To find the intercept, you can just take the average of the residuals (not their squares!) given the model so far:\n",
    "\n",
    "$$\\hat{\\alpha} = \\frac{1}{N}\\sum_i (y_i - \\hat{\\beta}x_i)$$"
   ]
  },
  {
   "cell_type": "code",
   "execution_count": 33,
   "metadata": {},
   "outputs": [
    {
     "name": "stdout",
     "output_type": "stream",
     "text": [
      "beta_hat 0.21192497833682786\n",
      "alpha_hat = -0.30914189818078747\n"
     ]
    }
   ],
   "source": [
    "#Find beta and alphaof the dataset using  above equations\n",
    "'''Helpful commands:\n",
    "    np.cov() will give covariance matrix\n",
    "    np.mean() will effectively summate and divide by N'''\n",
    "cov=np.cov(x,y,ddof=2) #x,y\n",
    "s_xy=cov[0,1]\n",
    "s_xx=cov[0,0]\n",
    "beta_hat=s_xy/s_xx\n",
    "print('beta_hat', beta_hat)\n",
    "alpha_hat=np.mean(y-(beta_hat*x))\n",
    "print('alpha_hat =',alpha_hat)\n",
    "#evry degree increase 0.2111 chirp increase per min\n"
   ]
  },
  {
   "cell_type": "markdown",
   "metadata": {},
   "source": [
    "$$\\hat{y} = 0.21.x -0.309$$"
   ]
  },
  {
   "cell_type": "code",
   "execution_count": 34,
   "metadata": {},
   "outputs": [
    {
     "data": {
      "image/png": "[encoded data removed]",
      "text/plain": [
       "<Figure size 576x396 with 1 Axes>"
      ]
     },
     "metadata": {},
     "output_type": "display_data"
    }
   ],
   "source": [
    "# r is between -1 to 1\n",
    "x_base= np.array([65,100])\n",
    "plt.plot(x_base,0.212*x_base-0.39)\n",
    "plt.plot(x,y,'o')\n",
    "plt.errorbar(x,y,yerr=2,fmt='go',capthick=1)\n",
    "plt.show()"
   ]
  },
  {
   "cell_type": "markdown",
   "metadata": {},
   "source": [
    "### shapiro test\n",
    "come up with the null hypothesis\n",
    "\n",
    "Find the difference/residuals of the true data and predicted linear fit\n",
    "\n",
    "Run a Shapiro Wilks test"
   ]
  },
  {
   "cell_type": "markdown",
   "metadata": {},
   "source": [
    "ss.shapiro(data)\n",
    "The first value is the test statistic,second is the p-value"
   ]
  },
  {
   "cell_type": "code",
   "execution_count": 35,
   "metadata": {},
   "outputs": [],
   "source": [
    "# we can find that we are confident that this dta is not normal but cant fully say that it is. cant fully prove in statistics\n"
   ]
  },
  {
   "cell_type": "markdown",
   "metadata": {},
   "source": [
    "Null: Normally distributed residuals\n",
    "    \n",
    "Alternative: Not normally distributed"
   ]
  },
  {
   "cell_type": "code",
   "execution_count": 36,
   "metadata": {},
   "outputs": [
    {
     "name": "stdout",
     "output_type": "stream",
     "text": [
      "(0.9631986618041992, 0.7477710247039795)\n"
     ]
    }
   ],
   "source": [
    "#first find residuals\n",
    "# Run shapiro wilks\n",
    "#Get p-value\n",
    "#make conclusion\n",
    "\n",
    "differences=y-(alpha_hat+x*beta_hat)\n",
    "print(ss.shapiro(differences))"
   ]
  },
  {
   "cell_type": "markdown",
   "metadata": {},
   "source": [
    "p-value is about 0.75>>0.05 differences may be normally distributed"
   ]
  },
  {
   "cell_type": "code",
   "execution_count": 37,
   "metadata": {},
   "outputs": [
    {
     "data": {
      "image/png": "[encoded data removed]",
      "text/plain": [
       "<Figure size 576x396 with 1 Axes>"
      ]
     },
     "metadata": {},
     "output_type": "display_data"
    }
   ],
   "source": [
    "plt.plot(x,differences,'o')\n",
    "plt.errorbar(x,differences,yerr=2,fmt='go',capthick=1)\n",
    "plt.axhline(y=0)\n",
    "plt.show()\n",
    "#the linear seems appropriate because the data is randomly distributed across the line"
   ]
  },
  {
   "cell_type": "code",
   "execution_count": 38,
   "metadata": {},
   "outputs": [
    {
     "name": "stdout",
     "output_type": "stream",
     "text": [
      "R2= 0.6974651450167396 and r= 0.8351437870311552\n"
     ]
    }
   ],
   "source": [
    "ssr=np.sum((differences)**2)\n",
    "tss=np.sum((np.mean(y)-y)**2)\n",
    "r_squared=1-(ssr/tss)\n",
    "print('R2=',r_squared,'and r=',np.sqrt(r_squared))\n",
    "# if r is negative add a negative sign\n",
    "# R2\n",
    "#0.7 good fit\n",
    "#0.3 okay fit\n",
    "#less than 0.3 bad fit"
   ]
  },
  {
   "cell_type": "code",
   "execution_count": 39,
   "metadata": {},
   "outputs": [
    {
     "data": {
      "text/plain": [
       "15"
      ]
     },
     "execution_count": 39,
     "metadata": {},
     "output_type": "execute_result"
    }
   ],
   "source": [
    "len(x)"
   ]
  },
  {
   "cell_type": "code",
   "execution_count": 40,
   "metadata": {},
   "outputs": [
    {
     "name": "stdout",
     "output_type": "stream",
     "text": [
      "confidence interval of beta_hata ranges from 0.20882272652877054 to 0.21502723014488517 with 95% confidence\n"
     ]
    }
   ],
   "source": [
    "#standard deviation\n",
    "#standard error\n",
    "#run T-test\n",
    "#Remember that degrees of freedom is (N-number of variables)\n",
    "\n",
    "N=len(x)\n",
    "\n",
    "var=np.sum((y-(alpha_hat+x*beta_hat))**2)/N\n",
    "std_dev=np.sqrt(var)\n",
    "std_error_beta= std_dev/np.sum((x-np.mean(x))**2)\n",
    "T=ss.t.ppf(0.975,N-2)\n",
    "lower=beta_hat-T*std_error_beta\n",
    "upper=beta_hat+T*std_error_beta\n",
    "print('confidence interval of beta_hata ranges from',lower,'to',upper,'with 95% confidence')"
   ]
  },
  {
   "cell_type": "code",
   "execution_count": 41,
   "metadata": {},
   "outputs": [],
   "source": [
    "#1.3\n",
    "#how far can we extrapolate\n",
    "#this data doesnt hold at zero degree because chirps will be dead\n",
    "#here is no such thing as -0.319 per chirp\n",
    "#use the equation found by changing difference values of x and see if it makes sense.\n",
    "#the further you are from the the data the more uncertain you are for your extrapolation\n"
   ]
  },
  {
   "cell_type": "markdown",
   "metadata": {},
   "source": [
    "# 1.2 Nonlinear Fit\n",
    "\n",
    "The data below shows the temperature of a hot cup of coffee versus time in minutes."
   ]
  },
  {
   "cell_type": "code",
   "execution_count": 28,
   "metadata": {},
   "outputs": [],
   "source": [
    "time = [0, 5, 8, 11, 15, 18, 22, 25, 30, 34, 38, 42, 45, 50]\n",
    "heat = [179.5, 168.7, 158.1, 149.2, 141.7, 134.6, 125.4, 123.5, 116.3, 113.2, 109.1, 105.7, 102.2, 100.5]\n",
    "\n",
    "time = np.array(time)\n",
    "heat = np.array(heat)"
   ]
  },
  {
   "cell_type": "code",
   "execution_count": 51,
   "metadata": {},
   "outputs": [],
   "source": [
    "x=time\n",
    "y=heat"
   ]
  },
  {
   "cell_type": "code",
   "execution_count": 52,
   "metadata": {},
   "outputs": [
    {
     "data": {
      "image/png": "[encoded data removed]",
      "text/plain": [
       "<Figure size 576x396 with 1 Axes>"
      ]
     },
     "metadata": {},
     "output_type": "display_data"
    }
   ],
   "source": [
    "plt.plot(x,y,'o')\n",
    "plt.title('Temp in F by time in min')\n",
    "plt.show()\n",
    "#use scatter plots"
   ]
  },
  {
   "cell_type": "code",
   "execution_count": 53,
   "metadata": {},
   "outputs": [
    {
     "name": "stdout",
     "output_type": "stream",
     "text": [
      "beta_hat -1.563715998155832\n",
      "alpha_hat = 168.86104195481786\n"
     ]
    }
   ],
   "source": [
    "#Find beta and alphaof the dataset using  above equations\n",
    "'''Helpful commands:\n",
    "    np.cov() will give covariance matrix\n",
    "    np.mean() will effectively summate and divide by N'''\n",
    "cov=np.cov(x,y,ddof=2) #x,y\n",
    "s_xy=cov[0,1]\n",
    "s_xx=cov[0,0]\n",
    "beta_hat=s_xy/s_xx\n",
    "print('beta_hat', beta_hat)\n",
    "alpha_hat=np.mean(y-(beta_hat*x))\n",
    "print('alpha_hat =',alpha_hat)\n",
    " \n"
   ]
  },
  {
   "cell_type": "markdown",
   "metadata": {},
   "source": [
    "$$\\hat{y}=168.8-1.56x$$"
   ]
  },
  {
   "cell_type": "code",
   "execution_count": 74,
   "metadata": {},
   "outputs": [
    {
     "data": {
      "image/png": "[encoded data removed]",
      "text/plain": [
       "<Figure size 576x396 with 1 Axes>"
      ]
     },
     "metadata": {},
     "output_type": "display_data"
    }
   ],
   "source": [
    "x_base= np.array([0,50])\n",
    "plt.plot(x_base,-1.5637*x_base+168.86)\n",
    "plt.plot(x,y,'o')\n",
    "plt.errorbar(x,y,yerr=2,fmt='go',capthick=1)\n",
    "plt.show()"
   ]
  },
  {
   "cell_type": "code",
   "execution_count": 55,
   "metadata": {},
   "outputs": [
    {
     "name": "stdout",
     "output_type": "stream",
     "text": [
      "(0.9424723982810974, 0.4509190618991852)\n"
     ]
    }
   ],
   "source": [
    "differences=y-(alpha_hat+x*beta_hat)\n",
    "print(ss.shapiro(differences))"
   ]
  },
  {
   "cell_type": "code",
   "execution_count": 56,
   "metadata": {},
   "outputs": [
    {
     "data": {
      "image/png": "[encoded data removed]",
      "text/plain": [
       "<Figure size 576x396 with 1 Axes>"
      ]
     },
     "metadata": {},
     "output_type": "display_data"
    }
   ],
   "source": [
    "plt.plot(x,differences,'o')\n",
    "plt.errorbar(x,differences,yerr=2,fmt='go',capthick=1)\n",
    "plt.axhline(y=0)\n",
    "plt.show()\n",
    "#if u then linear fit is wrong"
   ]
  },
  {
   "cell_type": "code",
   "execution_count": 57,
   "metadata": {},
   "outputs": [
    {
     "name": "stdout",
     "output_type": "stream",
     "text": [
      "R2= 0.9399494816907316 and r= 0.9695099183044656\n"
     ]
    }
   ],
   "source": [
    "ssr=np.sum((differences)**2)\n",
    "tss=np.sum((np.mean(y)-y)**2)\n",
    "r_squared=1-(ssr/tss)\n",
    "print('R2=',r_squared,'and r=',np.sqrt(r_squared))\n",
    "#even tho R2 is big it is misleading so suggest another lime"
   ]
  },
  {
   "cell_type": "markdown",
   "metadata": {},
   "source": [
    "$$T(t)=T_a+(T_o-T_a)\\times e^{-kt}$$ <br>\n",
    "\n",
    "whether Ta is atmosper and To is body temperature"
   ]
  },
  {
   "cell_type": "code",
   "execution_count": 62,
   "metadata": {},
   "outputs": [
    {
     "name": "stdout",
     "output_type": "stream",
     "text": [
      "      fun: 26.356886369283863\n",
      " hess_inv: array([[1.93775755e+00, 5.79528878e-01, 1.56180479e-03],\n",
      "       [5.79528878e-01, 2.65713329e-01, 5.09737113e-04],\n",
      "       [1.56180479e-03, 5.09737113e-04, 1.32972935e-06]])\n",
      "      jac: array([ 4.76837158e-07,  0.00000000e+00, -3.38554382e-04])\n",
      "  message: 'Desired error not necessarily achieved due to precision loss.'\n",
      "     nfev: 422\n",
      "      nit: 20\n",
      "     njev: 82\n",
      "   status: 2\n",
      "  success: False\n",
      "        x: array([8.35240071e+01, 1.81725304e+02, 3.59206101e-02])\n"
     ]
    }
   ],
   "source": [
    "def obj(Constants,x,y):\n",
    "    T_a=Constants[0]\n",
    "    T_o=Constants[1]\n",
    "    k=Constants[2]\n",
    "    yhat=T_a+(T_o-T_a)*np.exp(-k*x)\n",
    "    residuals=y-yhat\n",
    "    SSR=np.sum((residuals**2))\n",
    "    \n",
    "    return SSR\n",
    "result=scipy.optimize.minimize(obj,x0=[90,180,.1],args=(x,y)) #play around with te numbers to get the best \n",
    "print(result)\n"
   ]
  },
  {
   "cell_type": "code",
   "execution_count": 64,
   "metadata": {},
   "outputs": [
    {
     "data": {
      "image/png": "[encoded data removed]",
      "text/plain": [
       "<Figure size 576x396 with 1 Axes>"
      ]
     },
     "metadata": {},
     "output_type": "display_data"
    }
   ],
   "source": [
    "plt.plot(x,y,'o')\n",
    "Ta=result.x[0]\n",
    "To=result.x[1]\n",
    "k=result.x[2]\n",
    "\n",
    "plt.plot(x,Ta+(To-Ta)*np.exp(-k*x))\n",
    "plt.show()"
   ]
  },
  {
   "cell_type": "code",
   "execution_count": 66,
   "metadata": {},
   "outputs": [
    {
     "name": "stdout",
     "output_type": "stream",
     "text": [
      "(0.9363452792167664, 0.37350285053253174)\n"
     ]
    }
   ],
   "source": [
    "#first find residuals\n",
    "# Run shapiro wilks\n",
    "#Get p-value\n",
    "#make conclusion\n",
    "\n",
    "differences=y-(Ta+(To-Ta)*np.exp(-k*x))\n",
    "print(ss.shapiro(differences))"
   ]
  },
  {
   "cell_type": "code",
   "execution_count": 67,
   "metadata": {},
   "outputs": [
    {
     "data": {
      "image/png": "[encoded data removed]",
      "text/plain": [
       "<Figure size 576x396 with 1 Axes>"
      ]
     },
     "metadata": {},
     "output_type": "display_data"
    }
   ],
   "source": [
    "plt.plot(x,differences,'o')\n",
    "plt.errorbar(x,differences,yerr=2,fmt='go',capthick=1)\n",
    "plt.axhline(y=0)\n",
    "plt.show()"
   ]
  },
  {
   "cell_type": "code",
   "execution_count": 70,
   "metadata": {},
   "outputs": [
    {
     "name": "stdout",
     "output_type": "stream",
     "text": [
      "R2= 0.9968859036383719\n"
     ]
    }
   ],
   "source": [
    "ssr=np.sum((differences)**2)\n",
    "tss=np.sum((np.mean(y)-y)**2)\n",
    "r_squared=1-(ssr/tss)\n",
    "print('R2=',r_squared) # r doesnt existfor non linear fits #add negative because graph is going down"
   ]
  },
  {
   "cell_type": "code",
   "execution_count": null,
   "metadata": {},
   "outputs": [],
   "source": [
    "actual=y\n",
    "#predicted is based on equation\n",
    "y_hat=Ta-(Ta-To)*np.exp(-kx)\n"
   ]
  },
  {
   "cell_type": "markdown",
   "metadata": {},
   "source": [
    "# Method of Analysis\n",
    "\n",
    "Residuals: Are they randomly distributed , or do they follow a pattern ? <br>\n",
    "Are they normally distributed(Shapiro Wilks)\n",
    "R and R squared: What are the values? How do they compare ti similar data<br>\n",
    "Does it make sense tha tthe data follows a regression?<br>\n"
   ]
  },
  {
   "cell_type": "markdown",
   "metadata": {},
   "source": [
    "Now, we will conduct a regression on the following data. We will first do a linear regression, then after attempt a non-linear regression.\n",
    "\n",
    "1) Conduct a linear regression\n",
    "\n",
    "2) Assess the goodness of fit\n",
    "\n",
    "3) Develop a model equation to fit the data non-linearly\n",
    "\n",
    "4) Write a function to solve for those parameters\n",
    "\n",
    "5) Assess goodness of fit"
   ]
  }
 ],
 "metadata": {
  "anaconda-cloud": {},
  "kernelspec": {
   "display_name": "Python 3",
   "language": "python",
   "name": "python3"
  },
  "language_info": {
   "codemirror_mode": {
    "name": "ipython",
    "version": 3
   },
   "file_extension": ".py",
   "mimetype": "text/x-python",
   "name": "python",
   "nbconvert_exporter": "python",
   "pygments_lexer": "ipython3",
   "version": "3.6.4"
  }
 },
 "nbformat": 4,
 "nbformat_minor": 1
}
