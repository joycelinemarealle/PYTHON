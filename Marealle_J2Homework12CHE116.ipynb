{
 "cells": [
  {
   "cell_type": "markdown",
   "metadata": {},
   "source": [
    "Homework 12\n",
    "====\n",
    "#### CHE 116: Numerical Methods and Statistics\n",
    "\n",
    "4/19/2018\n",
    "\n",
    "----\n",
    "\n",
    "Homework Requirements:\n",
    "\n",
    "1. Write all equations in $\\LaTeX$\n",
    "2. Simplify all expressions\n",
    "2. Put comments in your Python code\n",
    "3. Explain or show your work\n",
    "4. Follow the academic honesty guidelines in the syllabus\n",
    "\n",
    "-----"
   ]
  },
  {
   "cell_type": "code",
   "execution_count": 1,
   "metadata": {},
   "outputs": [],
   "source": [
    "import math\n",
    "import numpy as np\n",
    "from sympy import symbols,solve\n",
    "from scipy.misc import comb, factorial\n",
    "import matplotlib.pyplot as plt\n",
    "%matplotlib inline\n",
    "import seaborn as sns\n",
    "from scipy import stats as ss\n",
    "from scipy.integrate import quad\n",
    "import random\n",
    "from math import sqrt, pi, erf\n",
    "from scipy import optimize as opt\n",
    "from scipy.optimize import minimize\n",
    "from scipy.optimize import newton,root\n",
    "import scipy.optimize\n",
    "import numpy.linalg as linalg"
   ]
  },
  {
   "cell_type": "markdown",
   "metadata": {},
   "source": [
    "1\\. Conceptual Questions (20 Points)\n",
    "====\n",
    "\n",
    "*Answer in Markdown* 2 Points each\n",
    "\n",
    "1. What assumption do we make on the noise terms when doing linear regression? How can we check it?\n",
    "\n",
    "2. Your friend tells you that it's important to minimize both the SSR and TSS. What's wrong with minimizing the TSS?\n",
    "\n",
    "3. How do you justify the presence of a slope?\n",
    "\n",
    "4. What is the best numeric value or statistic for justifying the existence of a correlation?\n",
    "\n",
    "5. What should you plot to justify an ordinary 4-dimensional least squares regression?\n",
    "\n",
    "6. Why do we use different number of deducted degrees of freedom when doing hypothesis testing vs performing the regression?\n",
    "\n",
    "7. Write a model equation for 3-dimensional ordinary least squares regression with an intercept. For example, a one dimensional model equation without an intercept would be $y = \\beta_0 x + \\epsilon$\n",
    "\n",
    "8. Write a model equation for when $y \\propto \\ln{x}$. Assume no intercept\n",
    "\n",
    "9. Write a model equation for a person's life expectancy ($l$) assuming it depends on gender ($s$) and if the person eats vegetables ($v$). Assume for this problem that gender and eating vegetables are both binary (0 or 1). \n",
    "\n",
    "10. Write a model equation for homework performanced ($h$) based on music genre listended to while working. The following genres are conisdered: Kwaito, Electroswing, and Djent Metal. You can only listen to one genre at a time. Use the letters $k$, $e$, and $d$."
   ]
  },
  {
   "cell_type": "markdown",
   "metadata": {},
   "source": [
    "1.1 The noise comes from a normal distribution. This is checked by using the shapiro's wilk test <br>\n",
    "\n",
    "1.2 TTS is a constant so cant be minimized.. It cannot be changed because it will not be the same data being investigated. \n",
    "\n",
    "1.3 spearman's test to justify existance of correlation.\n",
    "\n",
    "Then use regression. The regression coefficient is the slope b of the regression line. Use confidence interval fr paremeters and see if it is not zero.If confidence interval of slope's paremeter is not zero then you are confident that there is zero.\n",
    "\n",
    "1.4 The p-value from the the spearman's test to justify existance of correlation.\n",
    "\n",
    "1.5\n",
    "Plot the exact solutions and the least squares. Plot histogram of residuals\n",
    "\n",
    "\n",
    "\n",
    "1.6  For hypothesis the paremeter investigated is assumed to be zero so we have N-(D-1) of 1 because only one thing being tested while \n",
    " <br>Regression N-D where D is deducted degree of freedom which depends on number of paremeters..\n",
    "\n",
    "1.7  $y=\\beta_0 x_0+ \\beta_1 x_1 + \\beta_2 x_2 + \\alpha \\epsilon$\n",
    " \n",
    " \n",
    "\n",
    "1.8 $ y=\\beta In(x)  + \\epsilon$\n",
    "\n",
    "1.9 $$ l= \\beta_0 + \\beta_s \\delta_s+ \\beta_v \\delta_v + \\beta_{sv} \\delta_s \\delta_v + \\epsilon$$\n",
    "\n",
    "1.10$$ h = \\beta_0 + \\beta_k \\delta_k + \\beta_e \\delta_e + \\beta_d \\delta_d + \\epsilon$$"
   ]
  },
  {
   "cell_type": "markdown",
   "metadata": {},
   "source": [
    "2\\. Short Answer Questions (16 Points)\n",
    "====\n",
    "\n",
    "*Answer in Python or Markdown as appropiate* 4 Points each\n",
    "\n",
    "1. If $\\sigma_{xy} = -2.1$, $\\sigma_{x}^2 = 3.5$, $\\sigma_{y}^2  = 1.7$, what is the best fit slope? How does it change if the intercept is $-2.1$?\n",
    "\n",
    "2. If your model equation is $y = \\beta_0 + \\beta_1 x + \\beta_2 z + \\epsilon$, what is the deducted degrees of freedom?\n",
    "\n",
    "3. If $N = 12$, $D = 2$, and $S^2_{\\beta_0} = 2.5$, what is the width of a 90% confidence interval for $\\beta_0$?\n",
    "\n",
    "4. If your best fit intercept is $\\hat{\\alpha} = 3$ with a standard error of $0.7$, what is the $p$-value for the existence of the that intercept? Take $N = 15$ and assume it's 1D OLS.\n"
   ]
  },
  {
   "cell_type": "markdown",
   "metadata": {},
   "source": [
    "2.1 The best fit slope is   $ \\sigma_{xy}/ \\sigma_{x}^2 = \\frac{-2.1}{3.5}= -0.6$\n",
    "\n",
    "It does not  change anything because the best fit slope is not determined by the intercept."
   ]
  },
  {
   "cell_type": "markdown",
   "metadata": {},
   "source": [
    "2.2\n",
    "\n",
    "ddof = 3  is the number of paremeters to be fitted."
   ]
  },
  {
   "cell_type": "code",
   "execution_count": 87,
   "metadata": {},
   "outputs": [
    {
     "name": "stdout",
     "output_type": "stream",
     "text": [
      "1.8124611228107335\n",
      "beta_hat +/- 2.86575265929404  with 90% confidence\n",
      "the width 5.73150531858808\n"
     ]
    }
   ],
   "source": [
    "2.3\n",
    "# N<25 so t distribution N-D where d is number of fit coeffificents\n",
    "s2_beta = 2.5\n",
    "T = scipy.stats.t.ppf(0.95, 12 - 2)\n",
    "\n",
    "print( T)\n",
    "#beta_hat=\n",
    "\n",
    "print('beta_hat', '+/-', T * np.sqrt(s2_beta), ' with 90% confidence')\n",
    "print('the width', 2*T * np.sqrt(s2_beta))"
   ]
  },
  {
   "cell_type": "code",
   "execution_count": 68,
   "metadata": {},
   "outputs": [
    {
     "name": "stdout",
     "output_type": "stream",
     "text": [
      "alpha =  3  T =  4.285714285714286  p-value =  0.000754107597154885\n"
     ]
    }
   ],
   "source": [
    "2.4\n",
    "s_beta=0.7\n",
    "alpha_hat=3\n",
    "N=15\n",
    "D=1\n",
    "df=N-D\n",
    "T=alpha_hat/s_beta #convert to a standard t distribution\n",
    "p = 1 - (scipy.stats.t.cdf(T, df) - scipy.stats.t.cdf(-T, df))\n",
    "print ('alpha = ', alpha_hat, ' T = ', T, ' p-value = ', p)\n",
    "\n",
    "  "
   ]
  },
  {
   "cell_type": "markdown",
   "metadata": {},
   "source": [
    "3\\. Linearized Regression (24 Points)\n",
    "===\n",
    "\n",
    "Regress the following data to the model equation $y = \\beta_0 \\ln x + \\beta_1 x + \\beta_2 +\\epsilon$ using a linearization so that you use ND OLS. Report the following:\n",
    "\n",
    "1. [4 points] Justification for regression. Use words and statistics.\n",
    "2. [12 points] Fit coefficients with 95% confidence intervals.\n",
    "3. [4 points] Plot fit\n",
    "4. [4 points] Show if residuals are normal\n",
    "\n",
    "```python\n",
    "x = [0.2, 0.29, 0.39, 0.48, 0.57, 0.66, 0.76, 0.85, 0.94, 1.04, 1.13, 1.22, 1.31, 1.41, 1.5]\n",
    "y = [2.92, 2.58, 3.18, 4.27, 4.5, 3.93, 4.32, 4.57, 4.55, 4.7, 5.02, 4.21, 3.04, 4.98, 6.45]\n",
    "```"
   ]
  },
  {
   "cell_type": "code",
   "execution_count": 61,
   "metadata": {},
   "outputs": [],
   "source": [
    "3.1\n",
    "x = np. array([0.2, 0.29, 0.39, 0.48, 0.57, 0.66, 0.76, 0.85, 0.94, 1.04, 1.13, 1.22, 1.31, 1.41, 1.5])\n",
    "y =np.array( [2.92, 2.58, 3.18, 4.27, 4.5, 3.93, 4.32, 4.57, 4.55, 4.7, 5.02, 4.21, 3.04, 4.98, 6.45])"
   ]
  },
  {
   "cell_type": "markdown",
   "metadata": {},
   "source": [
    "Null hypothesis is that x and y have no correlation"
   ]
  },
  {
   "cell_type": "code",
   "execution_count": 93,
   "metadata": {},
   "outputs": [
    {
     "name": "stdout",
     "output_type": "stream",
     "text": [
      "P value is less than 0.05 so the null hypothesis is rejected. There is a correlation between x and y so regression is justified\n"
     ]
    }
   ],
   "source": [
    "ss.spearmanr(x,y)\n",
    "print('P value is less than 0.05 so the null hypothesis is rejected. There is a correlation between x and y so regression is justified')"
   ]
  },
  {
   "cell_type": "code",
   "execution_count": 29,
   "metadata": {},
   "outputs": [
    {
     "data": {
      "text/plain": [
       "array([[-1.60943791,  0.2       ,  1.        ],\n",
       "       [-1.23787436,  0.29      ,  1.        ],\n",
       "       [-0.94160854,  0.39      ,  1.        ],\n",
       "       [-0.73396918,  0.48      ,  1.        ],\n",
       "       [-0.56211892,  0.57      ,  1.        ],\n",
       "       [-0.41551544,  0.66      ,  1.        ],\n",
       "       [-0.27443685,  0.76      ,  1.        ],\n",
       "       [-0.16251893,  0.85      ,  1.        ],\n",
       "       [-0.0618754 ,  0.94      ,  1.        ],\n",
       "       [ 0.03922071,  1.04      ,  1.        ],\n",
       "       [ 0.12221763,  1.13      ,  1.        ],\n",
       "       [ 0.19885086,  1.22      ,  1.        ],\n",
       "       [ 0.27002714,  1.31      ,  1.        ],\n",
       "       [ 0.3435897 ,  1.41      ,  1.        ],\n",
       "       [ 0.40546511,  1.5       ,  1.        ]])"
      ]
     },
     "execution_count": 29,
     "metadata": {},
     "output_type": "execute_result"
    }
   ],
   "source": [
    "import numpy.linalg as linalg\n",
    "\n",
    "x_mat = np.column_stack((np.log(x),x, (np.ones(len(x))))) # B_2 is the one interms of np. ones\n",
    "x_mat"
   ]
  },
  {
   "cell_type": "code",
   "execution_count": 42,
   "metadata": {},
   "outputs": [
    {
     "name": "stdout",
     "output_type": "stream",
     "text": [
      "[ 1.19374141 -0.07794449  4.6485906 ]\n",
      "\n",
      "0.5822079542705133\n"
     ]
    },
    {
     "name": "stderr",
     "output_type": "stream",
     "text": [
      "/opt/conda/lib/python3.6/site-packages/ipykernel_launcher.py:2: FutureWarning: `rcond` parameter will change to the default of machine precision times ``max(M, N)`` where M and N are the input matrix dimensions.\n",
      "To use the future default and silence this warning we advise to pass `rcond=None`, to keep using the old, explicitly pass `rcond=-1`.\n",
      "  \n"
     ]
    }
   ],
   "source": [
    "\n",
    "beta,*_ = linalg.lstsq(x_mat, y) \n",
    "print(beta)\n",
    "print('')\n",
    "yhat = x_mat @ beta\n",
    "resids = yhat - y\n",
    "SSR = np.sum(resids**2)\n",
    "se2_epsilon = SSR / (len(x) - len(beta))\n",
    "print(se2_epsilon)"
   ]
  },
  {
   "cell_type": "code",
   "execution_count": 43,
   "metadata": {},
   "outputs": [
    {
     "name": "stdout",
     "output_type": "stream",
     "text": [
      "[[ 1.63144593 -2.2940163   2.4523975 ]\n",
      " [-2.2940163   3.46681262 -3.65334535]\n",
      " [ 2.4523975  -3.65334535  3.89949329]]\n"
     ]
    }
   ],
   "source": [
    "se2_beta = se2_epsilon * linalg.inv(x_mat.transpose() @ x_mat)\n",
    "print(se2_beta)"
   ]
  },
  {
   "cell_type": "code",
   "execution_count": 94,
   "metadata": {},
   "outputs": [
    {
     "name": "stdout",
     "output_type": "stream",
     "text": [
      "beta_0 is 1.193741414757536 +/- 2.7829555284648695 with 95% confidence\n",
      "beta_1 is -0.07794449427600014 +/- 4.056814109626909 with 95% confidence\n",
      "beta_2 is 4.648590598673859 +/- 4.30253104282523 with 95% confidence\n"
     ]
    }
   ],
   "source": [
    "3.2\n",
    "for i in range(len(beta)):\n",
    "    #get our T-value for the confidence interval\n",
    "    T = scipy.stats.t.ppf(0.975, len(x) - len(beta)) \n",
    "    # Get the width of the confidence interval using our previously computed standard error\n",
    "    cwidth = T * np.sqrt(se2_beta[i,i]) \n",
    "    # print the result, using 2 - i to match our numbering above\n",
    "    print(\"beta_{} is {} +/- {} with 95% confidence\".format( i, beta[i], cwidth)) "
   ]
  },
  {
   "cell_type": "code",
   "execution_count": 89,
   "metadata": {},
   "outputs": [
    {
     "name": "stdout",
     "output_type": "stream",
     "text": [
      "[ 1.19374141 -0.07794449  4.6485906 ]\n"
     ]
    },
    {
     "data": {
      "image/png": "[encoded data removed]",
      "text/plain": [
       "<Figure size 432x288 with 1 Axes>"
      ]
     },
     "metadata": {},
     "output_type": "display_data"
    }
   ],
   "source": [
    "3.3\n",
    "plt.plot(x,y,'o',label='data')\n",
    "#plt.plot(x, B[0]*np.log(x)+ B[1]*x+B[2],'o')\n",
    "plt.plot(x,x_mat.dot(beta),label='least squares')\n",
    "print(beta)\n",
    "plt.legend(loc='upper right')\n",
    "plt.show()"
   ]
  },
  {
   "cell_type": "code",
   "execution_count": 81,
   "metadata": {},
   "outputs": [
    {
     "data": {
      "image/png": "[encoded data removed]",
      "text/plain": [
       "<Figure size 432x288 with 1 Axes>"
      ]
     },
     "metadata": {},
     "output_type": "display_data"
    }
   ],
   "source": [
    "3.4 \n",
    "plt.hist(y - y_hat)\n",
    "plt.show()"
   ]
  },
  {
   "cell_type": "code",
   "execution_count": 53,
   "metadata": {},
   "outputs": [
    {
     "name": "stdout",
     "output_type": "stream",
     "text": [
      "Null hypothesis : Residual are normally distributed\n",
      "The p-value is 0.128 which is greater than 0.05 so the null hypothesis cannot be rejected. The residuals are normal\n"
     ]
    }
   ],
   "source": [
    "scipy.stats.shapiro(y - y_hat)\n",
    "print('Null hypothesis : Residual are normally distributed')\n",
    "print('The p-value is 0.128 which is greater than 0.05 so the null hypothesis cannot be rejected. The residuals are normal')"
   ]
  },
  {
   "cell_type": "markdown",
   "metadata": {},
   "source": [
    "4\\. Non-Linear Regression (12 Points)\n",
    "====\n",
    "\n",
    "Repeat problem 3 with non-linear least squares instead. Only do the computation of the coefficients with confidence intervals. Be sure to write out your partials making up your $F$-matrix in markdown."
   ]
  },
  {
   "cell_type": "code",
   "execution_count": 7,
   "metadata": {},
   "outputs": [
    {
     "name": "stdout",
     "output_type": "stream",
     "text": [
      "      fun: 6.986495451246288\n",
      " hess_inv: array([[ 1.40130947, -1.97019169,  2.10663496],\n",
      "       [-1.97019169,  2.9770925 , -3.13788133],\n",
      "       [ 2.10663496, -3.13788133,  3.34994186]])\n",
      "      jac: array([-4.17232513e-07,  1.19209290e-07,  0.00000000e+00])\n",
      "  message: 'Optimization terminated successfully.'\n",
      "     nfev: 55\n",
      "      nit: 9\n",
      "     njev: 11\n",
      "   status: 0\n",
      "  success: True\n",
      "        x: array([ 1.19374083, -0.07794365,  4.6485897 ])\n"
     ]
    }
   ],
   "source": [
    "#Create an objective function, that takes in 1 D-dimensional argument and outputs a measure of the goodness of fit (SSR)\n",
    "def obj(beta, x, y):\n",
    "    beta_0= beta[0] #<- extract the elements of the beta vector\n",
    "    beta_1= beta[1]\n",
    "    beta_2=beta[2]\n",
    "    yhat=beta_0*np.log(x)+beta_1 * x+beta_2 # <- This is our model equation\n",
    "    resids = yhat - y #<- compute residuals\n",
    "    SSR = np.sum(resids**2) #<- square and sum them\n",
    "    return SSR\n",
    "\n",
    "#Use the minimize (BGFS) function, with starting points\n",
    "result = scipy.optimize.minimize(obj, x0=[1,1,1], args=(x, y))#x0[depends on the fit coefficient]\n",
    "beta_opt = result.x #<- remember, we get out a whole bunch of extra stuff from optimization\n",
    "print(result)"
   ]
  },
  {
   "cell_type": "code",
   "execution_count": 90,
   "metadata": {},
   "outputs": [
    {
     "data": {
      "image/png": "[encoded data removed]",
      "text/plain": [
       "<Figure size 432x288 with 1 Axes>"
      ]
     },
     "metadata": {},
     "output_type": "display_data"
    }
   ],
   "source": [
    "plt.plot(x,y, 'o', label='data')\n",
    "plt.plot(x, beta[0]*np.log(x)+beta[1] * x+beta[2] , '-', label='linearized least squares')\n",
    "plt.plot(x, beta_opt[0]*np.log(x)+beta_opt[1] * x+beta_opt[2] , '-', label='Nonlinear least squares')\n",
    "plt.legend(loc='upper right')\n",
    "plt.show()"
   ]
  },
  {
   "cell_type": "markdown",
   "metadata": {},
   "source": [
    "\n",
    "$$\\frac{\\partial f}{\\partial \\beta_0} = ln(x)$$\n",
    "\n",
    "$$\\frac{\\partial f}{\\partial \\beta_1} = x$$\n",
    "\n",
    "$$\\frac{\\partial f}{\\partial \\beta_2} = 1$$"
   ]
  },
  {
   "cell_type": "code",
   "execution_count": 63,
   "metadata": {},
   "outputs": [
    {
     "name": "stdout",
     "output_type": "stream",
     "text": [
      "[[-1.60943791  0.2         1.        ]\n",
      " [-1.23787436  0.29        1.        ]\n",
      " [-0.94160854  0.39        1.        ]\n",
      " [-0.73396918  0.48        1.        ]\n",
      " [-0.56211892  0.57        1.        ]\n",
      " [-0.41551544  0.66        1.        ]\n",
      " [-0.27443685  0.76        1.        ]\n",
      " [-0.16251893  0.85        1.        ]\n",
      " [-0.0618754   0.94        1.        ]\n",
      " [ 0.03922071  1.04        1.        ]\n",
      " [ 0.12221763  1.13        1.        ]\n",
      " [ 0.19885086  1.22        1.        ]\n",
      " [ 0.27002714  1.31        1.        ]\n",
      " [ 0.3435897   1.41        1.        ]\n",
      " [ 0.40546511  1.5         1.        ]]\n"
     ]
    }
   ],
   "source": [
    "def build_F(beta, x):\n",
    "    #Compute the individual partials for each data point\n",
    "    beta_0_vec = np.log(x)\n",
    "    beta_1_vec =x\n",
    "    beta_2_vec=1\n",
    "    #Now stack them together\n",
    "    return np.column_stack( (beta_0_vec, beta_1_vec,np.ones(len(x)) ) )\n",
    "\n",
    "print(build_F(beta_opt, x))"
   ]
  },
  {
   "cell_type": "code",
   "execution_count": 64,
   "metadata": {},
   "outputs": [
    {
     "name": "stdout",
     "output_type": "stream",
     "text": [
      "0.5822079542705239\n"
     ]
    }
   ],
   "source": [
    "#The code below is our normal way of computing the standard error in the noise\n",
    "resids = y - beta_opt[0]*np.log(x)-beta_opt[1] * x-beta_opt[2]\n",
    "SSR = np.sum(resids**2)\n",
    "s2_epsilon = SSR / (len(x) - len(beta_opt))\n",
    "print(s2_epsilon)"
   ]
  },
  {
   "cell_type": "code",
   "execution_count": 65,
   "metadata": {},
   "outputs": [
    {
     "name": "stdout",
     "output_type": "stream",
     "text": [
      "[[ 1.63144593 -2.2940163   2.4523975 ]\n",
      " [-2.2940163   3.46681262 -3.65334535]\n",
      " [ 2.4523975  -3.65334535  3.89949329]]\n"
     ]
    }
   ],
   "source": [
    "#Using our F, compute the standard error in beta\n",
    "F = build_F(beta_opt, x)\n",
    "\n",
    "s2_beta = s2_epsilon * linalg.inv(F.transpose().dot(F))\n",
    "print(s2_beta)"
   ]
  },
  {
   "cell_type": "code",
   "execution_count": 67,
   "metadata": {},
   "outputs": [
    {
     "name": "stdout",
     "output_type": "stream",
     "text": [
      "95% confidence interval for beta_0 is 1.1937408266090073 +/ 2.7829555284648944\n",
      "95% confidence interval for beta_1 is -0.07794365460287328 +/ 4.056814109626946\n",
      "95% confidence interval for beta_2 is 4.64858969739695 +/ 4.056814109626946\n"
     ]
    }
   ],
   "source": [
    "#### We have standard error and can now compute a confidence interval\n",
    "T = scipy.stats.t.ppf(0.975, len(x) - len(beta_opt))\n",
    "c0_width = T * np.sqrt(s2_beta[0,0])\n",
    "print('95% confidence interval for beta_0 is {} +/ {}'.format(beta_opt[0], c0_width))\n",
    "\n",
    "c1_width = T * np.sqrt(s2_beta[1,1])\n",
    "print('95% confidence interval for beta_1 is {} +/ {}'.format(beta_opt[1], c1_width))\n",
    "c2_width = T * np.sqrt(s2_beta[1,1])\n",
    "print('95% confidence interval for beta_2 is {} +/ {}'.format(beta_opt[2], c2_width))"
   ]
  }
 ],
 "metadata": {
  "kernelspec": {
   "display_name": "Python 3",
   "language": "python",
   "name": "python3"
  },
  "language_info": {
   "codemirror_mode": {
    "name": "ipython",
    "version": 3
   },
   "file_extension": ".py",
   "mimetype": "text/x-python",
   "name": "python",
   "nbconvert_exporter": "python",
   "pygments_lexer": "ipython3",
   "version": "3.6.4"
  }
 },
 "nbformat": 4,
 "nbformat_minor": 2
}
