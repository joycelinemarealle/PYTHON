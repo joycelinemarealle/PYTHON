{
 "cells": [
  {
   "cell_type": "markdown",
   "metadata": {},
   "source": [
    "Recitation 11; Optimization\n",
    "====\n",
    "\n",
    "4/11/18\n",
    "\n",
    "Note: Starting with this homework, you should be commenting your code in homeworks. Work is getting to be more code based, and if you want credit (or partial credit) you need to explain your work."
   ]
  },
  {
   "cell_type": "markdown",
   "metadata": {},
   "source": [
    "Optimization\n",
    "=====\n",
    "----\n",
    "\n",
    "#### Check [here](https://nbviewer.jupyter.org/github/whitead/numerical_stats/blob/master/unit_11/lectures/lecture_1.ipynb) for optimization lecture notes\n",
    "\n",
    "Optimization techniques:\n",
    "\n",
    "* Root Finding\n",
    "  * [Newton's Method](https://nbviewer.jupyter.org/github/whitead/numerical_stats/blob/master/unit_11/lectures/lecture_1.ipynb#Newton's-Method) - `newton`\n",
    "  * [Powell Hybrid](https://nbviewer.jupyter.org/github/whitead/numerical_stats/blob/master/unit_11/lectures/lecture_1.ipynb#Powell-hybrid-method) - `root`\n",
    "  * [Brent](https://nbviewer.jupyter.org/github/whitead/numerical_stats/blob/master/unit_11/lectures/lecture_2.ipynb#Brent's-Method) - `brentq` (Will learn next lecture) \n",
    "\n",
    "\n",
    "* Minimization \n",
    "  * [BFGS](https://nbviewer.jupyter.org/github/whitead/numerical_stats/blob/master/unit_11/lectures/lecture_1.ipynb#BFGS) - `minimize`\n",
    "  * [Basin-hopping](https://nbviewer.jupyter.org/github/whitead/numerical_stats/blob/master/unit_11/lectures/lecture_2.ipynb#Basin-Hopping) - `basinhopping` (Will learn next lecture - for non-convex functions)\n",
    "  * [SLSQP](https://nbviewer.jupyter.org/github/whitead/numerical_stats/blob/master/unit_11/lectures/lecture_2.ipynb#Sequential Least SQuares Programming (SLSQP) - `minimize` (Will learn next lecture)\n",
    "  \n",
    "*Non Convex functions have more than one root/derivative of 0\n",
    "<newline>*If you are unsure of whether the function is non-convex or not, graph it\n",
    "<newline>*If you are unsure of what initial estimate to give for x0, graph the function=0, estimate x where y=0\n",
    "## Choosing which method to use\n",
    "What to consider when optimizing: [from notes](https://nbviewer.jupyter.org/github/whitead/numerical_stats/blob/master/unit_11/lectures/lecture_1.ipynb#Choosing-which-method-to-use)\n",
    "\n",
    "* Is it 1 or N dimensions?\n",
    "* Are you minimizing or root-finding?\n",
    "* Are there constraints?\n",
    "* Are there bounds?\n",
    "* Is it convex or non-convex?"
   ]
  },
  {
   "cell_type": "markdown",
   "metadata": {},
   "source": [
    "Problem 1: Root Finding\n",
    "====\n",
    "\n",
    "For each question, determine which optimization method to use and find the roots of the given equation(s)\n",
    "\n",
    "**1.** \n",
    "<center> Find the roots of <center> \n",
    "$$x^3 + 3x^2 - 5 = x + 10$$\n",
    "\n",
    "**2.** \n",
    "<center>Use lambda to find the root(s) of <center>\n",
    "$$\\cos\\left({\\frac{z^2}{4}}\\right) = z+2$$\n",
    "\n",
    "\n",
    "\n",
    "**3.** \n",
    "<center> Define and use a function to find the root(s) of <center>\n",
    "\\begin{align*}\n",
    "    3x + 2y &= 9\\\\\n",
    "    4x^2 - y &= -2\n",
    "\\end{align*}\n",
    "\n",
    "\n",
    "\n",
    "\n"
   ]
  },
  {
   "cell_type": "markdown",
   "metadata": {},
   "source": [
    "1.$$x^3 + 3x^2 - 5- x -10=0$$\n",
    "2.$$\\cos\\left({\\frac{z^2}{4}}\\right)- z-2$$\n",
    "3.\\begin{align*}\n",
    "    3x + 2y &-9=0\\\\\n",
    "    4x^2 - y &+2=0\n",
    "\\end{align*}\n",
    "\n"
   ]
  },
  {
   "cell_type": "code",
   "execution_count": 3,
   "metadata": {},
   "outputs": [],
   "source": [
    "#start by graphing functions so as you\n",
    "import numpy as np\n",
    "from matplotlib import pyplot as plt\n"
   ]
  },
  {
   "cell_type": "code",
   "execution_count": 4,
   "metadata": {},
   "outputs": [
    {
     "data": {
      "image/png": "[encoded data removed]",
      "text/plain": [
       "<Figure size 432x288 with 1 Axes>"
      ]
     },
     "metadata": {},
     "output_type": "display_data"
    }
   ],
   "source": [
    "#1.1\n",
    "#more than one minumum so non convex\n",
    "#for this if u choose something close to zero it wont work\n",
    "x=np.linspace(-2.5,2.5,1000)\n",
    "plt.plot(x,x**3+3*x**2-x-15)\n",
    "plt.show()"
   ]
  },
  {
   "cell_type": "code",
   "execution_count": 7,
   "metadata": {},
   "outputs": [
    {
     "name": "stdout",
     "output_type": "stream",
     "text": [
      "one root, using lambda, is 1.8622542887873788\n",
      "one root, using a defined function , is 1.8622542887873788\n"
     ]
    }
   ],
   "source": [
    "1.1\n",
    "from scipy.optimize import newton,root\n",
    "def part_1_1(x):\n",
    "    return x**3+3*x**2-x-15\n",
    "root_1_1_lambda=newton(lambda x:x**3+3*x**2-x-15,x0=0.25)\n",
    "root_1_1_definfunc=newton(part_1_1,x0=0.25)#you can change x0 the but you cannot have zero as it will not converge\n",
    "print('one root, using lambda, is {}'.format(root_1_1_lambda))\n",
    "print('one root, using a defined function , is {}'.format(root_1_1_definfunc))"
   ]
  },
  {
   "cell_type": "code",
   "execution_count": 10,
   "metadata": {},
   "outputs": [
    {
     "data": {
      "image/png": "[encoded data removed]",
      "text/plain": [
       "<Figure size 432x288 with 1 Axes>"
      ]
     },
     "metadata": {},
     "output_type": "display_data"
    },
    {
     "name": "stdout",
     "output_type": "stream",
     "text": [
      "One root of problem 1.2 is -1.0357489513886242\n"
     ]
    }
   ],
   "source": [
    "1.2\n",
    "z=np.linspace(-2.5,2.5,1000)\n",
    "plt.plot(z,np.cos(z**2/4)-z-2)\n",
    "plt.show()\n",
    "#simple function should not matter\n",
    "root_1_2_lambda=newton(lambda z: np.cos(z**2/4)-z-2,x0=-1)\n",
    "print('One root of problem 1.2 is {}'.format(root_1_2_lambda))"
   ]
  },
  {
   "cell_type": "code",
   "execution_count": 13,
   "metadata": {},
   "outputs": [
    {
     "name": "stdout",
     "output_type": "stream",
     "text": [
      "    fjac: array([[-0.57932524, -0.81509648],\n",
      "       [ 0.81509648, -0.57932524]])\n",
      "     fun: array([0., 0.])\n",
      " message: 'The solution converged.'\n",
      "    nfev: 13\n",
      "     qtf: array([-1.49988190e-11, -1.06603262e-11])\n",
      "       r: array([-5.17843832,  0.07979233,  2.51040921])\n",
      "  status: 1\n",
      " success: True\n",
      "       x: array([0.625 , 3.5625])\n",
      "\n",
      "\n",
      "Root for part 1_3 is [0.625  3.5625]\n"
     ]
    }
   ],
   "source": [
    "1.3 #two varibles so n-dimension functions.So using the root functions since 2-D\n",
    "#2-Dimensions, so we need to use te 'Power hybrid method', calling the root function.\n",
    "def function_1_1(z):\n",
    "    #z is an array of length 2, where z[0]=x, and z[1]=y\n",
    "    #z[0] is an array not just a numbeer\n",
    "    soln=np.zeros(2)\n",
    "    soln[0]=3*z[0]+2*z[1]-9\n",
    "    soln[1]=4*z[0]**2-z[1]+2\n",
    "    return soln\n",
    "root_1_3=root(function_1_1,x0=[0,0])\n",
    "print(root_1_3)\n",
    "print('\\n')\n",
    "print('Root for part 1_3 is {}'.format(root_1_3.x))"
   ]
  },
  {
   "cell_type": "markdown",
   "metadata": {},
   "source": [
    "Problem 2: Minimization\n",
    "====\n",
    "\n",
    "**1.** Minimize \n",
    "\n",
    "$$\\frac{(x−4)^2}{2} +\\frac{(x−2)^2}{4}$$\n",
    "\n",
    "**2.** Minimize on [-1,2]\n",
    "\n",
    "$$3 \\cos(4 x^2) \\sin(2 x + 1)$$ \n",
    "\n",
    "\n",
    "\n",
    "\n"
   ]
  },
  {
   "cell_type": "code",
   "execution_count": 21,
   "metadata": {},
   "outputs": [
    {
     "data": {
      "image/png": "[encoded data removed]",
      "text/plain": [
       "<Figure size 432x288 with 1 Axes>"
      ]
     },
     "metadata": {},
     "output_type": "display_data"
    },
    {
     "name": "stdout",
     "output_type": "stream",
     "text": [
      "      fun: 0.6666666666666667\n",
      " hess_inv: array([[0.66666667]])\n",
      "      jac: array([0.])\n",
      "  message: 'Optimization terminated successfully.'\n",
      "     nfev: 9\n",
      "      nit: 2\n",
      "     njev: 3\n",
      "   status: 0\n",
      "  success: True\n",
      "        x: array([3.33333333])\n",
      "our minimum is at [3.33333333], [0.66666667]\n"
     ]
    }
   ],
   "source": [
    "#2.1\n",
    "from scipy.optimize import minimize\n",
    "import math\n",
    "x=np.linspace(-1,10,100)\n",
    "plt.plot(x,(x-4)**2/2+(x-2)**2/4)\n",
    "plt.show()\n",
    "#use BFGS (call 'minimize' function)\n",
    "def func(x):\n",
    "    return((x-4)**2/2+(x-2)**2/4)\n",
    "min_2_1_x=minimize(func,x0=4)\n",
    "print(min_2_1_x)\n",
    "print('our minimum is at {}, {}'.format(min_2_1_x.x,func(min_2_1_x.x)))"
   ]
  },
  {
   "cell_type": "markdown",
   "metadata": {},
   "source": [
    "2.2\n",
    "$$3 \\cos(4 x^2) \\sin(2 x + 1)$$"
   ]
  },
  {
   "cell_type": "code",
   "execution_count": 27,
   "metadata": {},
   "outputs": [
    {
     "data": {
      "image/png": "[encoded data removed]",
      "text/plain": [
       "<Figure size 432x288 with 1 Axes>"
      ]
     },
     "metadata": {},
     "output_type": "display_data"
    },
    {
     "name": "stdout",
     "output_type": "stream",
     "text": [
      "Minimum value of part 2.2 is [1.77409932].[-2.95884675]\n"
     ]
    }
   ],
   "source": [
    "#2.2 graph first. given bounds []\n",
    "def obj(x):\n",
    "    return 3*np.cos(4*x**2)*np.sin(2*x+1)\n",
    "x=np.linspace(-1,2,100)\n",
    "plt.plot(x,obj(x))\n",
    "plt.show()\n",
    "min_2_2=minimize(obj,x0=1.75,bounds=[(-1,2)])\n",
    "min_2_2_x=min_2_2.x\n",
    "min_2_2_y=min_2_2.fun\n",
    "print('Minimum value of part 2.2 is {}.{}'.format(min_2_2_x,min_2_2_y))"
   ]
  },
  {
   "cell_type": "markdown",
   "metadata": {},
   "source": [
    "Problem 3: Box Problem\n",
    "====\n",
    "\n",
    "You have a square piece of cardboard with the dimensions 3 ft by 4 ft. You cut a small amount (x) off of each corner to fold up the corners to make a box. Determine the height of the box that gives a maximum volume."
   ]
  },
  {
   "cell_type": "code",
   "execution_count": 31,
   "metadata": {},
   "outputs": [
    {
     "name": "stdout",
     "output_type": "stream",
     "text": [
      "-2.8125\n",
      "The maximum volume is [0.56574182] in cubed\n"
     ]
    }
   ],
   "source": [
    "#the height of the box is x\n",
    "#to use minimize function to maximize\n",
    "#we only knw how to minimize so negativ since we are maximixing\n",
    "def volume(x):\n",
    "    h=x\n",
    "    l=3-2*x\n",
    "    w=4-2*x\n",
    "    return -1*(l*w*h)#\n",
    "#providing our function works\n",
    "x=0.75\n",
    "print(volume(x))\n",
    "vol=minimize(volume,x0=0)\n",
    "print('The maximum volume is {} in cubed'.format(vol.x))\n"
   ]
  },
  {
   "cell_type": "code",
   "execution_count": null,
   "metadata": {},
   "outputs": [],
   "source": []
  }
 ],
 "metadata": {
  "kernelspec": {
   "display_name": "Python 3",
   "language": "python",
   "name": "python3"
  },
  "language_info": {
   "codemirror_mode": {
    "name": "ipython",
    "version": 3
   },
   "file_extension": ".py",
   "mimetype": "text/x-python",
   "name": "python",
   "nbconvert_exporter": "python",
   "pygments_lexer": "ipython3",
   "version": "3.6.4"
  }
 },
 "nbformat": 4,
 "nbformat_minor": 2
}
