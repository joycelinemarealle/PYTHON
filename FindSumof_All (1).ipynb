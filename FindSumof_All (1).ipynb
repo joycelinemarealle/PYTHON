{
  "nbformat": 4,
  "nbformat_minor": 0,
  "metadata": {
    "colab": {
      "provenance": []
    },
    "kernelspec": {
      "name": "python3",
      "display_name": "Python 3"
    },
    "language_info": {
      "name": "python"
    }
  },
  "cells": [
    {
      "cell_type": "markdown",
      "source": [
        "# Write a program that finds Sum of All"
      ],
      "metadata": {
        "id": "kFveS8mHexPJ"
      }
    },
    {
      "cell_type": "code",
      "source": [
        "#Initialize sum_of_numbers\n",
        "sum_of_numbers = 0\n",
        "\n",
        "# Loop through numbers from 0 to 100\n",
        "for n in range(0, 101):  # This includes 0 and goes up to but does not include 101\n",
        "    sum_of_numbers += n\n",
        "\n",
        "print('The sum of numbers', sum_of_numbers)"
      ],
      "metadata": {
        "colab": {
          "base_uri": "https://localhost:8080/"
        },
        "id": "9nzcHcAef_-w",
        "outputId": "0f235535-ebab-4613-8251-d2effebfb6e9"
      },
      "execution_count": 24,
      "outputs": [
        {
          "output_type": "stream",
          "name": "stdout",
          "text": [
            "The sum of numbers 5050\n"
          ]
        }
      ]
    },
    {
      "cell_type": "code",
      "execution_count": 6,
      "metadata": {
        "colab": {
          "base_uri": "https://localhost:8080/"
        },
        "id": "Tkku7LdxXK2J",
        "outputId": "d5b324ef-f7b3-4355-8caf-694d93161b63"
      },
      "outputs": [
        {
          "output_type": "stream",
          "name": "stdout",
          "text": [
            "This sum of all 5050\n"
          ]
        }
      ],
      "source": [
        "sum_of_numbers = print('This sum of all', sum(range(1,101)))"
      ]
    },
    {
      "cell_type": "code",
      "source": [
        "#if want sum of all n values\n",
        "#Then leave print in loop\n",
        "\n",
        "#Initialize sum_of_numbers\n",
        "sum_of_numbers = 0\n",
        "\n",
        "# Loop through numbers from 0 to 100\n",
        "for n in range(0, 101):  # This includes 0 and goes up to but does not include 101\n",
        "    sum_of_numbers += n\n",
        "    print('The sum of numbers', sum_of_numbers)"
      ],
      "metadata": {
        "colab": {
          "base_uri": "https://localhost:8080/"
        },
        "id": "OqHFUdBsk_mW",
        "outputId": "7d24ad8c-6f3c-4106-f4bb-c2da6cad4d52"
      },
      "execution_count": 26,
      "outputs": [
        {
          "output_type": "stream",
          "name": "stdout",
          "text": [
            "The sum of numbers 0\n",
            "The sum of numbers 1\n",
            "The sum of numbers 3\n",
            "The sum of numbers 6\n",
            "The sum of numbers 10\n",
            "The sum of numbers 15\n",
            "The sum of numbers 21\n",
            "The sum of numbers 28\n",
            "The sum of numbers 36\n",
            "The sum of numbers 45\n",
            "The sum of numbers 55\n",
            "The sum of numbers 66\n",
            "The sum of numbers 78\n",
            "The sum of numbers 91\n",
            "The sum of numbers 105\n",
            "The sum of numbers 120\n",
            "The sum of numbers 136\n",
            "The sum of numbers 153\n",
            "The sum of numbers 171\n",
            "The sum of numbers 190\n",
            "The sum of numbers 210\n",
            "The sum of numbers 231\n",
            "The sum of numbers 253\n",
            "The sum of numbers 276\n",
            "The sum of numbers 300\n",
            "The sum of numbers 325\n",
            "The sum of numbers 351\n",
            "The sum of numbers 378\n",
            "The sum of numbers 406\n",
            "The sum of numbers 435\n",
            "The sum of numbers 465\n",
            "The sum of numbers 496\n",
            "The sum of numbers 528\n",
            "The sum of numbers 561\n",
            "The sum of numbers 595\n",
            "The sum of numbers 630\n",
            "The sum of numbers 666\n",
            "The sum of numbers 703\n",
            "The sum of numbers 741\n",
            "The sum of numbers 780\n",
            "The sum of numbers 820\n",
            "The sum of numbers 861\n",
            "The sum of numbers 903\n",
            "The sum of numbers 946\n",
            "The sum of numbers 990\n",
            "The sum of numbers 1035\n",
            "The sum of numbers 1081\n",
            "The sum of numbers 1128\n",
            "The sum of numbers 1176\n",
            "The sum of numbers 1225\n",
            "The sum of numbers 1275\n",
            "The sum of numbers 1326\n",
            "The sum of numbers 1378\n",
            "The sum of numbers 1431\n",
            "The sum of numbers 1485\n",
            "The sum of numbers 1540\n",
            "The sum of numbers 1596\n",
            "The sum of numbers 1653\n",
            "The sum of numbers 1711\n",
            "The sum of numbers 1770\n",
            "The sum of numbers 1830\n",
            "The sum of numbers 1891\n",
            "The sum of numbers 1953\n",
            "The sum of numbers 2016\n",
            "The sum of numbers 2080\n",
            "The sum of numbers 2145\n",
            "The sum of numbers 2211\n",
            "The sum of numbers 2278\n",
            "The sum of numbers 2346\n",
            "The sum of numbers 2415\n",
            "The sum of numbers 2485\n",
            "The sum of numbers 2556\n",
            "The sum of numbers 2628\n",
            "The sum of numbers 2701\n",
            "The sum of numbers 2775\n",
            "The sum of numbers 2850\n",
            "The sum of numbers 2926\n",
            "The sum of numbers 3003\n",
            "The sum of numbers 3081\n",
            "The sum of numbers 3160\n",
            "The sum of numbers 3240\n",
            "The sum of numbers 3321\n",
            "The sum of numbers 3403\n",
            "The sum of numbers 3486\n",
            "The sum of numbers 3570\n",
            "The sum of numbers 3655\n",
            "The sum of numbers 3741\n",
            "The sum of numbers 3828\n",
            "The sum of numbers 3916\n",
            "The sum of numbers 4005\n",
            "The sum of numbers 4095\n",
            "The sum of numbers 4186\n",
            "The sum of numbers 4278\n",
            "The sum of numbers 4371\n",
            "The sum of numbers 4465\n",
            "The sum of numbers 4560\n",
            "The sum of numbers 4656\n",
            "The sum of numbers 4753\n",
            "The sum of numbers 4851\n",
            "The sum of numbers 4950\n",
            "The sum of numbers 5050\n"
          ]
        }
      ]
    },
    {
      "cell_type": "code",
      "source": [
        "def sum(n):\n",
        "  total = 0\n",
        "  for x in range( 0,n+1):\n",
        "     total += x\n",
        "  return total\n",
        "\n",
        "print('This is the sum of numbers from 1 to 100',sum(100))"
      ],
      "metadata": {
        "colab": {
          "base_uri": "https://localhost:8080/"
        },
        "id": "uZFPQhgQihwk",
        "outputId": "fda2dfa1-ece1-40f6-c9f3-d76a2c202d76"
      },
      "execution_count": 21,
      "outputs": [
        {
          "output_type": "stream",
          "name": "stdout",
          "text": [
            "This is the sum of numbers from 1 to 100 5050\n"
          ]
        }
      ]
    }
  ]
}