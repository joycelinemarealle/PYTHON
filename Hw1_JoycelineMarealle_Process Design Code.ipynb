{
 "cells": [
  {
   "cell_type": "markdown",
   "metadata": {},
   "source": [
    "\n",
    "# JOYCELINE MAREALLE , Hw 1#\n",
    "\n"
   ]
  },
  {
   "cell_type": "code",
   "execution_count": 33,
   "metadata": {},
   "outputs": [
    {
     "data": {
      "image/png": "[encoded data removed]",
      "text/plain": [
       "<Figure size 432x288 with 1 Axes>"
      ]
     },
     "metadata": {
      "needs_background": "light"
     },
     "output_type": "display_data"
    },
    {
     "name": "stdout",
     "output_type": "stream",
     "text": [
      "The intervals are [165.0, 145.0, 140.0, 85.0, 55.0, 25.0]\n",
      "\n"
     ]
    }
   ],
   "source": [
    "import numpy as np\n",
    "import matplotlib.pyplot as plt\n",
    "#where streams 1 and 3 are cold streams\n",
    "#where streams 2 and 4 are hot streams \n",
    "#CONVENTION HOT-COLD for delta CP\n",
    "#frame1 = plt.gca()\n",
    "#TSA Temperature supply\n",
    "#TST Temperature target\n",
    "#SSA Shifted temp supply\n",
    "#STa Shifted temp target\n",
    "#cold stream negative\n",
    "#hot stream positive\n",
    "CP1 = -2\n",
    "CP2 = 3\n",
    "CP3 = -4\n",
    "CP4 = 1.5\n",
    "TSA1= 20\n",
    "TSA2=170\n",
    "TSA3=80\n",
    "TSA4=150\n",
    "TTA1=135\n",
    "TTA2=60\n",
    "TTA3=140\n",
    "TTA4=30\n",
    "dT_min=10\n",
    "# cold stream has Ss 0.5 delta Tmin above T\n",
    "#hot stream has Ss 0.5 delta Tmin below T\n",
    "SSS1= TSA1+(dT_min/2)\n",
    "SSS2=TSA2-(dT_min/2)\n",
    "SSS3=TSA3+(dT_min/2)\n",
    "SSS4=TSA4-(dT_min/2)\n",
    "SST1=TTA1+(dT_min/2)\n",
    "SST2=TTA2-(dT_min/2)\n",
    "SST3=TTA3+(dT_min/2)\n",
    "SST4=TTA4-(dT_min/2)\n",
    "x1= [1,1]\n",
    "y1= [SSS1,SST1]\n",
    "x2= [2,2]\n",
    "y2= [SST2,SSS2]\n",
    "x3= [3,3]\n",
    "y3= [SSS3,SST3]\n",
    "x4= [4,4]\n",
    "y4= [SST4,SSS4]\n",
    "plt.plot(x1, y1, label= 'Stream 1')\n",
    "plt.plot(x2, y2, label= 'Stream 2')\n",
    "plt.plot(x3, y3, label= 'Stream 3')\n",
    "plt.plot(x4, y4, label= 'Stream 4')\n",
    "plt.legend(loc='best')\n",
    "plt.xlabel('Intervals')\n",
    "plt.ylabel('Temperature C')\n",
    "plt.title('Heat Cascade')\n",
    "plt.show()\n",
    "intervals = np.array([SSS1, SST1, SSS2, SST2, SSS3, SST3, SSS4,SST4])\n",
    "intervals = list(set(intervals))\n",
    "intervals.sort(reverse=True)\n",
    "print('The intervals are {}'.format(intervals))\n",
    "print()\n",
    "#print(len(intervals)-1) "
   ]
  },
  {
   "cell_type": "code",
   "execution_count": 34,
   "metadata": {},
   "outputs": [
    {
     "name": "stdout",
     "output_type": "stream",
     "text": [
      "The shifted temperature intervals are [20.0, 5.0, 55.0, 30.0, 30.0]\n",
      "\n",
      "The Sum of Delta CP for each interval are [3, 0.5, -1.5, 2.5, -0.5]\n",
      "\n",
      "The Delta H are [ 60.    2.5 -82.5  75.  -15. ]\n",
      "\n",
      "The initial heat cascade is [60.0, 62.5, -20.0, 55.0, 40.0]\n",
      "\n",
      "The Adjusted heat Cascade is [80.  82.5  0.  75.  60. ]\n",
      "The Pinch Temperature is 85.0\n",
      "\n",
      "QH is 20.0\n",
      "\n",
      "QC is 60.0\n"
     ]
    }
   ],
   "source": [
    "s0=intervals[0]\n",
    "s1=intervals[1]\n",
    "s2=intervals[2]\n",
    "s3=intervals[3]\n",
    "s4=intervals[4]\n",
    "s5=intervals[5]\n",
    "s = [s0-s1,s1-s2,s2-s3,s3-s4,s4-s5]\n",
    "print('The shifted temperature intervals are {}'.format(s)) # these are the shifted temperature intervals\n",
    "print()\n",
    "#intervals = [[intervals[0],intervals[1]],[intervals[1],intervals[2]],[intervals[2],intervals[3]],[intervals[3],intervals[4]],[intervals[4],intervals[5]]]\n",
    "y1= np.arange(SSS1,SST1)\n",
    "y2= np.arange(SST2,SSS2)\n",
    "y3= np.arange(SSS3,SST3)\n",
    "y4= np.arange(SST4,SSS4)\n",
    "i=0\n",
    "D_CP = []\n",
    "CP= [CP1,CP2,CP3,CP4]\n",
    "stream =[y1,y2,y3,y4]\n",
    "while i < (len(intervals) - 1):\n",
    "    t=0\n",
    "    total_cp=0\n",
    "    while t < len(CP):\n",
    "        if not set(stream[t]).isdisjoint( np.arange(intervals[i+1], intervals[i]))  == True:\n",
    "            total_cp= CP[t] + total_cp\n",
    "        t += 1\n",
    "    D_CP.append(total_cp)\n",
    "    i += 1\n",
    "print('The Sum of Delta CP for each interval are {}'.format(D_CP)) \n",
    "print()\n",
    "deltaH= np.multiply(s, D_CP)\n",
    "print('The Delta H are {}'.format(deltaH))\n",
    "print()\n",
    "intH = 0\n",
    "c = [deltaH[0]]\n",
    "cc = deltaH[0]\n",
    "while intH < len(deltaH) - 1:\n",
    "    cc = cc + deltaH[intH + 1]\n",
    "    c.append(cc)\n",
    "    intH += 1\n",
    "print('The initial heat cascade is {}'.format(c))\n",
    "print()\n",
    "finC= np.abs(np.min(c)) +c\n",
    "QH= np.abs(np.min(c)) #this is QH\n",
    "QC = finC[-1] \n",
    "print('The Adjusted heat Cascade is {}'.format(finC))\n",
    "i=0\n",
    "while i < len(finC)-1:\n",
    "    if finC[i] == 0:\n",
    "        print('The Pinch Temperature is {}'.format(intervals[i+1]))\n",
    "    i +=1\n",
    "print()\n",
    "print('QH is {}'.format(QH))\n",
    "print()\n",
    "print('QC is {}'.format(QC))"
   ]
  },
  {
   "cell_type": "code",
   "execution_count": 39,
   "metadata": {},
   "outputs": [
    {
     "data": {
      "image/png": "[encoded data removed]",
      "text/plain": [
       "<Figure size 432x288 with 1 Axes>"
      ]
     },
     "metadata": {
      "needs_background": "light"
     },
     "output_type": "display_data"
    },
    {
     "name": "stdout",
     "output_type": "stream",
     "text": [
      "The intervals are [185.0, 175.0, 145.0, 110.0, 65.0, 35.0]\n",
      "\n"
     ]
    }
   ],
   "source": [
    "# 1 and 3 streams are cold and 2 and 4 are hot \n",
    "CP1 = -3\n",
    "CP2 = 2\n",
    "CP3 = -2.6\n",
    "CP4 = 4\n",
    "TSA1= 60\n",
    "TSA2=180\n",
    "TSA3=30\n",
    "TSA4=150\n",
    "TTA1=180\n",
    "TTA2=40\n",
    "TTA3=105\n",
    "TTA4=40\n",
    "dT_min=10\n",
    "#cold stream has Ss 0.5 delta Tmin above T\n",
    "#hot stream has Ss 0.5 delta Tmin below T\n",
    "SSS1= TSA1+(dT_min/2)\n",
    "SSS2=TSA2-(dT_min/2)\n",
    "SSS3=TSA3+(dT_min/2)\n",
    "SSS4=TSA4-(dT_min/2)\n",
    "SST1=TTA1+(  dT_min/2)\n",
    "SST2=TTA2-(dT_min/2)\n",
    "SST3=TTA3+(dT_min/2)\n",
    "SST4=TTA4-(dT_min/2)\n",
    "x1= [1,1]\n",
    "y1= [SSS1,SST1]\n",
    "x2= [2,2]\n",
    "y2= [SST2,SSS2]\n",
    "x3= [3,3]\n",
    "y3= [SSS3,SST3]\n",
    "x4= [4,4]\n",
    "y4= [SST4,SSS4]\n",
    "plt.plot(x1, y1, label= 'Stream 1')\n",
    "plt.plot(x2, y2, label= 'Stream 2')\n",
    "plt.plot(x3, y3, label= 'Stream 3')\n",
    "plt.plot(x4, y4, label= 'Stream 4')\n",
    "plt.legend(loc='best')\n",
    "plt.xlabel('Intervals')\n",
    "plt.ylabel('Temperature C')\n",
    "plt.title('Heat Cascade')\n",
    "plt.show()\n",
    "intervals = np.array([SSS1, SST1, SSS2, SST2, SSS3, SST3, SSS4,SST4])\n",
    "intervals = list(set(intervals))\n",
    "intervals.sort(reverse= True)\n",
    "print('The intervals are {}'.format(intervals))\n",
    "print()\n",
    "#print(len(intervals)-1) "
   ]
  },
  {
   "cell_type": "code",
   "execution_count": 38,
   "metadata": {},
   "outputs": [
    {
     "name": "stdout",
     "output_type": "stream",
     "text": [
      "The shifted temperature intervals are [10.0, 30.0, 35.0, 45.0, 30.0]\n",
      "\n",
      "The Sum of Delta CP for each interval are [-3, -1, 3, 0.3999999999999999, 3.4]\n",
      "\n",
      "The Delta H are [-30. -30. 105.  18. 102.]\n",
      "\n",
      "The initial heat cascade is [-30.0, -60.0, 45.0, 63.0, 165.0]\n",
      "\n",
      "The Adjusted heat Cascade is [ 30.   0. 105. 123. 225.]\n",
      "The Pinch Temperature is 145.0\n",
      "\n",
      "QH is 60.0\n",
      "\n",
      "QC is 225.0\n"
     ]
    }
   ],
   "source": [
    "s0=intervals[0]\n",
    "s1=intervals[1]\n",
    "s2=intervals[2]\n",
    "s3=intervals[3]\n",
    "s4=intervals[4]\n",
    "s5=intervals[5]\n",
    "s = [s0-s1,s1-s2,s2-s3,s3-s4,s4-s5]\n",
    "print('The shifted temperature intervals are {}'.format(s)) # these are the shifted temperature intervals\n",
    "print()\n",
    "#intervals = [[intervals[0],intervals[1]],[intervals[1],intervals[2]],[intervals[2],intervals[3]],[intervals[3],intervals[4]],[intervals[4],intervals[5]]]\n",
    "y1= np.arange(SSS1,SST1)\n",
    "y2= np.arange(SST2,SSS2)\n",
    "y3= np.arange(SSS3,SST3)\n",
    "y4= np.arange(SST4,SSS4)\n",
    "i=0\n",
    "D_CP = []\n",
    "CP= [CP1,CP2,CP3,CP4]\n",
    "stream =[y1,y2,y3,y4]\n",
    "while i < (len(intervals) - 1):\n",
    "    t=0\n",
    "    total_cp=0\n",
    "    while t < len(CP):\n",
    "        if not set(stream[t]).isdisjoint( np.arange(intervals[i+1], intervals[i]))  == True:\n",
    "            total_cp= CP[t] + total_cp\n",
    "        t += 1\n",
    "    D_CP.append(total_cp)\n",
    "    i += 1\n",
    "print('The Sum of Delta CP for each interval are {}'.format(D_CP)) \n",
    "print()\n",
    "deltaH= np.multiply(s, D_CP)\n",
    "print('The Delta H are {}'.format(deltaH))\n",
    "print()\n",
    "intH = 0\n",
    "c = [deltaH[0]]\n",
    "cc = deltaH[0]\n",
    "while intH < len(deltaH) - 1:\n",
    "    cc = cc + deltaH[intH + 1]\n",
    "    c.append(cc)\n",
    "    intH += 1\n",
    "print('The initial heat cascade is {}'.format(c))\n",
    "print()\n",
    "finC= np.abs(np.min(c)) +c\n",
    "QH= np.abs(np.min(c)) #this is QH\n",
    "QC = finC[-1] \n",
    "print('The Adjusted heat Cascade is {}'.format(finC))\n",
    "i=0\n",
    "while i < len(finC)-1:\n",
    "    if finC[i] == 0:\n",
    "        print('The Pinch Temperature is {}'.format(intervals[i+1]))\n",
    "    i +=1\n",
    "print()\n",
    "print('QH is {}'.format(QH))\n",
    "print()\n",
    "print('QC is {}'.format(QC))"
   ]
  },
  {
   "cell_type": "markdown",
   "metadata": {},
   "source": [
    "## NOTES ##\n",
    "\n",
    "1. For Column Integration reboilers shifted T (+(DeltaT_min/2)) (cold stream) (abs(Q) is negative)\n",
    "\n",
    "2. Condenser shifted temperature (-(DeltaT_min/2)) (hot stream) (abs(Q) is positive)\n",
    "\n",
    "3. Above the pinch CPH <= CPC\n",
    "\n",
    "4. Below the pinch CPH >= CPC\n",
    "\n",
    "5. Higher temperatures are above the pinch and lower below\"\n",
    "\n",
    "6. At pinch, Shifted temperature to be within pinch interval\n",
    "\n",
    "7. 1⁄2Tmin below hot stream and  1⁄2.Tmin  above cold stream temperatures\n",
    "\n",
    "8. Reboilers are on hot streams"
   ]
  }
 ],
 "metadata": {
  "kernelspec": {
   "display_name": "Python 3",
   "language": "python",
   "name": "python3"
  },
  "language_info": {
   "codemirror_mode": {
    "name": "ipython",
    "version": 3
   },
   "file_extension": ".py",
   "mimetype": "text/x-python",
   "name": "python",
   "nbconvert_exporter": "python",
   "pygments_lexer": "ipython3",
   "version": "3.7.3"
  }
 },
 "nbformat": 4,
 "nbformat_minor": 2
}
