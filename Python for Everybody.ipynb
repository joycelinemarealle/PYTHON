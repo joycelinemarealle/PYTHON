{
 "cells": [
  {
   "cell_type": "markdown",
   "id": "28bc4453",
   "metadata": {},
   "source": [
    "# Input from User\n",
    "## 03/25/2024 - 03/28/2024"
   ]
  },
  {
   "cell_type": "code",
   "execution_count": null,
   "id": "4c734d69",
   "metadata": {},
   "outputs": [],
   "source": [
    "inp =input('European floor\\n')\n",
    "usa_floor = int(inp) + 1\n",
    "print (usa_floor, 'usa_floor')\n"
   ]
  },
  {
   "cell_type": "markdown",
   "id": "718fa2bd",
   "metadata": {},
   "source": [
    "# Write a program to prompt the user for hours and rate per hour using input to compute gross pay. Use 35 hours and a rate of 2.75 per hour to test the program (the pay should be 96.25). You should use input to read a string and float() to convert the string to a number.\n"
   ]
  },
  {
   "cell_type": "code",
   "execution_count": null,
   "id": "962f7631",
   "metadata": {},
   "outputs": [],
   "source": [
    "#Ask user for input of hours and rate per hour and convert inputs to integers\n",
    "hrs_input = input('Enter hours:')\n",
    "rate_input = input('Enter rate per hour:')\n",
    "\n",
    "\n",
    "# Convert input strings to float\n",
    "hrs = float(hrs_input)\n",
    "rate = float(rate_input)\n",
    "\n",
    "# Calculate gross pay\n",
    "grosspay = hrs * rate\n",
    "print('Pay:',grosspay)"
   ]
  },
  {
   "cell_type": "markdown",
   "id": "6f2e552a",
   "metadata": {},
   "source": [
    "# For Loops and Nesting"
   ]
  },
  {
   "cell_type": "code",
   "execution_count": null,
   "id": "6f7835f1",
   "metadata": {},
   "outputs": [],
   "source": [
    "for i in range(5):\n",
    "    print (i)\n",
    "    if i > 2:\n",
    "        print('Bigger than 2')\n",
    "    print('Done with i', i)\n",
    "print('All done')"
   ]
  },
  {
   "cell_type": "code",
   "execution_count": null,
   "id": "4111a69e",
   "metadata": {},
   "outputs": [],
   "source": [
    "x = float(input('Enter a number:\\n'))\n",
    "if x>1:\n",
    "    print('more than one')\n",
    "    if x < 100:\n",
    "        print('less than 100')\n",
    "print('all done')"
   ]
  },
  {
   "cell_type": "code",
   "execution_count": null,
   "id": "a6433907",
   "metadata": {},
   "outputs": [],
   "source": [
    "x=4\n",
    "if x>2:\n",
    "    print('greater than 2')\n",
    "else:\n",
    "    print('less than 2')\n",
    "print ('all done')"
   ]
  },
  {
   "cell_type": "code",
   "execution_count": null,
   "id": "cb8ba1b9",
   "metadata": {},
   "outputs": [],
   "source": [
    "x=2\n",
    "if x<=2:\n",
    "    print('small')\n",
    "elif 3<=x<=5:\n",
    "    print('medium')\n",
    "else:\n",
    "    print('large')\n",
    "print('all done')"
   ]
  },
  {
   "cell_type": "markdown",
   "id": "158f30e6",
   "metadata": {},
   "source": [
    "# Try and Except to eliminate and catch TRACEBACK ERROR"
   ]
  },
  {
   "cell_type": "code",
   "execution_count": null,
   "id": "c3ed1cdf",
   "metadata": {},
   "outputs": [],
   "source": [
    "#add try and except to eliminate tracebook error when converting a string to an integer\n",
    "#bad line at try\n",
    "#astr= 'Hello Bob'\n",
    "#istr = int(astr)\n",
    "\n",
    "astr= 'Hello Bob'\n",
    "try:\n",
    "    istr = int(astr)\n",
    "except:\n",
    "    istr = -1\n",
    "print ('First', istr)\n",
    "\n",
    "astr = '123'\n",
    "try:\n",
    "    istr =int(astr)\n",
    "except:\n",
    "    istr = -1\n",
    "print('Second', istr)"
   ]
  },
  {
   "cell_type": "code",
   "execution_count": null,
   "id": "76aecf1f",
   "metadata": {},
   "outputs": [],
   "source": [
    "#if strings are added by used num = -1 so anaswer will always be not a number\n",
    "inp = input('Enter a number\\n')\n",
    "\n",
    "try:\n",
    "    num = int(inp)\n",
    "except:\n",
    "    num = -1\n",
    "    \n",
    "if num > 0:\n",
    "    print('nice work')\n",
    "else:\n",
    "    print('not a number')"
   ]
  },
  {
   "cell_type": "code",
   "execution_count": null,
   "id": "745c98ea",
   "metadata": {},
   "outputs": [],
   "source": [
    "x = 0\n",
    "if x < 2 :\n",
    "    print('Small')\n",
    "elif x < 10 :\n",
    "    print('Medium')\n",
    "else :\n",
    "    print('LARGE')\n",
    "print('All done')"
   ]
  },
  {
   "cell_type": "markdown",
   "id": "fb333e3e",
   "metadata": {},
   "source": [
    "# 3.1 Write a program to prompt the user for hours and rate per hour using input to compute gross pay. Pay the hourly rate for the hours up to 40 and 1.5 times the hourly rate for all hours worked above 40 hours. Use 45 hours and a rate of 10.50 per hour to test the program (the pay should be 498.75). You should use input to read a string and float() to convert the string to a number.Account for  error checking the user input - assume the user might not type numbers properly."
   ]
  },
  {
   "cell_type": "code",
   "execution_count": null,
   "id": "0c282daf",
   "metadata": {},
   "outputs": [],
   "source": [
    "try:\n",
    "    hrs = float(input('Enter hours worked:\\n'))\n",
    "except:\n",
    "    print('Error,please type numeric input')\n",
    "    quit()\n",
    "\n",
    "try:\n",
    "    rate = float(input('Enter rate\\n'))\n",
    "except:\n",
    "    print('Error, please type numeric input')\n",
    "    quit()\n",
    "    \n",
    "if hrs <= 40:\n",
    "    grosspay = hrs * rate\n",
    "    print('Grosspay for upto 40 hours worked',grosspay)\n",
    "elif hrs > 40:\n",
    "    grosspay = (40 *rate) + (hrs-40)*(1.5*rate)\n",
    "    print('Grosspay for greater than 40 hours worked', grosspay)\n"
   ]
  },
  {
   "cell_type": "markdown",
   "id": "194d96aa",
   "metadata": {},
   "source": [
    "# 3.3 Write a program to prompt for a score between 0.0 and 1.0. If the score is out of range, print an error. If the score is between 0.0 and 1.0, print a grade using the following table:\n",
    "Score Grade\n",
    "\n",
    " A is >= 0.9 \n",
    " B is >= 0.8\n",
    " C is  >= 0.7 \n",
    " D is  >= 0.6 \n",
    " F is  < 0.6 \n",
    "If the user enters a value out of range, print a suitable error message and exit. For the test, enter a score of 0.85."
   ]
  },
  {
   "cell_type": "code",
   "execution_count": null,
   "id": "a996087f",
   "metadata": {},
   "outputs": [],
   "source": [
    "#convert input from user which is a string to a float\n",
    "#account for error using try and except \n",
    "try:\n",
    "    score= float(input('Enter score between 0.0 and 1.0:\\n'))\n",
    "\n",
    "except:\n",
    "    print('Error, print score between 0.0 and 1.0')\n",
    "    quit()\n",
    "    \n",
    "if score >= 0.9:\n",
    "    print('A')\n",
    "elif score >= 0.8:\n",
    "    print('B')\n",
    "elif score >= 0.7:\n",
    "    print('C')\n",
    "elif score >= 0.6:\n",
    "    print('D')\n",
    "else:\n",
    "    print('F')\n",
    "    "
   ]
  },
  {
   "cell_type": "markdown",
   "id": "d44fccb7",
   "metadata": {},
   "source": [
    "# FUNCTIONS\n",
    "## Stored and re-used steps"
   ]
  },
  {
   "cell_type": "markdown",
   "id": "8ef43096",
   "metadata": {},
   "source": [
    "### Argument\n",
    "#argument = Hello word"
   ]
  },
  {
   "cell_type": "code",
   "execution_count": null,
   "id": "eec1d634",
   "metadata": {},
   "outputs": [],
   "source": [
    "big = max('Hello word')\n",
    "big"
   ]
  },
  {
   "cell_type": "markdown",
   "id": "409f7970",
   "metadata": {},
   "source": [
    "### Parameter"
   ]
  },
  {
   "cell_type": "code",
   "execution_count": null,
   "id": "4b553159",
   "metadata": {},
   "outputs": [],
   "source": [
    "def greet(lang):\n",
    "    if lang == 'es':\n",
    "        print('Holla')\n",
    "    if lang == 'fr':\n",
    "        print('Bonjour')\n",
    "    else:\n",
    "        print('Hello')\n",
    "greet('es')\n",
    "greet('fr')\n",
    "greet('en')"
   ]
  },
  {
   "cell_type": "markdown",
   "id": "6a8c4b70",
   "metadata": {},
   "source": [
    "### Return values\n",
    "Ends the function and sends back the result of function"
   ]
  },
  {
   "cell_type": "code",
   "execution_count": null,
   "id": "e05392c2",
   "metadata": {},
   "outputs": [],
   "source": [
    "\n",
    "def greet():\n",
    "    return \"Hello\"\n",
    "print(greet(), 'Joy')"
   ]
  },
  {
   "cell_type": "code",
   "execution_count": null,
   "id": "b73b3f0e",
   "metadata": {},
   "outputs": [],
   "source": [
    "def greet(lang):\n",
    "    if lang == 'es':\n",
    "        return'Holla'\n",
    "    if lang == 'fr':\n",
    "        return'Bonjour'\n",
    "    else:\n",
    "        return 'Hello'\n",
    "print(greet('es'),'Joy')\n",
    "print(greet('fr'), 'Mike')\n",
    "print(greet('en'),'Kev')"
   ]
  },
  {
   "cell_type": "markdown",
   "id": "e0825aa3",
   "metadata": {},
   "source": [
    "# Multiple parameter/ arguments"
   ]
  },
  {
   "cell_type": "code",
   "execution_count": null,
   "id": "953e43e6",
   "metadata": {},
   "outputs": [],
   "source": [
    "def fun(a,b):\n",
    "    fun = a + b\n",
    "    return fun\n",
    "x = fun(3,5)\n",
    "print (x)"
   ]
  },
  {
   "cell_type": "markdown",
   "id": "afaa2687",
   "metadata": {},
   "source": [
    "# QUESTIONS"
   ]
  },
  {
   "cell_type": "code",
   "execution_count": null,
   "id": "baa79a88",
   "metadata": {},
   "outputs": [],
   "source": [
    "def stuff():\n",
    "    print('Hello')\n",
    "    return\n",
    "    print('World')\n",
    "\n",
    "stuff()"
   ]
  },
  {
   "cell_type": "code",
   "execution_count": null,
   "id": "3171357a",
   "metadata": {},
   "outputs": [],
   "source": [
    "def addtwo(a, b):\n",
    "    added = a + b\n",
    "    return a\n",
    "\n",
    "x = addtwo(2, 7)\n",
    "print(x)"
   ]
  },
  {
   "cell_type": "markdown",
   "id": "1c562167",
   "metadata": {},
   "source": [
    "# 4.6 Write a program to prompt the user for hours and rate per hour using input to compute gross pay. Pay should be the normal rate for hours up to 40 and time-and-a-half for the hourly rate for all hours worked above 40 hours. Put the logic to do the computation of pay in a function called computepay() and use the function to do the computation. The function should return a value. Use 45 hours and a rate of 10.50 per hour to test the program (the pay should be 498.75). You should use input to read a string and float() to convert the string to a number. Do not worry about error checking the user input unless you want to - you can assume the user types numbers properly. Do not name your variable sum or use the sum() function.\n"
   ]
  },
  {
   "cell_type": "code",
   "execution_count": null,
   "id": "84819f46",
   "metadata": {},
   "outputs": [],
   "source": [
    "try:\n",
    "    hrs= float(input('Enter hours:\\n'))\n",
    "except:\n",
    "    print('Error, please type numeric value')\n",
    "    quit()\n",
    "    \n",
    "try:\n",
    "    rate = float(input('Enter rate:\\n'))\n",
    "except:\n",
    "    print('Error, please type numeric value')\n",
    "    quit()\n",
    "\n",
    "\n",
    "\n",
    "def computepay(rate,hrs):\n",
    "    if hrs <=40:\n",
    "        computepay = hrs*rate\n",
    "    elif hrs>40:\n",
    "        computepay = 40*rate+ (hrs-40)*1.5*rate\n",
    "        return computepay\n",
    "\n",
    "x= computepay(rate,hrs)\n",
    "print ('Pay',x)"
   ]
  },
  {
   "cell_type": "markdown",
   "id": "6a8ce228",
   "metadata": {},
   "source": [
    "# LOOPS AND ITERATION"
   ]
  },
  {
   "cell_type": "code",
   "execution_count": null,
   "id": "57463d49",
   "metadata": {},
   "outputs": [],
   "source": [
    "#loop rechecks the question as long as condition remain true\n",
    "n=5\n",
    "while n>0:\n",
    "    print(n)\n",
    "    n=n-1\n",
    "print('blast off')\n",
    "print(n)\n",
    "    "
   ]
  },
  {
   "cell_type": "markdown",
   "id": "1d68cc48",
   "metadata": {},
   "source": [
    "# AN INFINITE LOOP\n",
    "BREAK statement to get out of an infinite loop\n"
   ]
  },
  {
   "cell_type": "markdown",
   "id": "d0c79f30",
   "metadata": {},
   "source": [
    "# BREAKING OUT OF A LOOP\n",
    "### using break"
   ]
  },
  {
   "cell_type": "code",
   "execution_count": null,
   "id": "72a037bc",
   "metadata": {},
   "outputs": [],
   "source": [
    "\n",
    "#starting out as true\n",
    "while True:\n",
    "    line = input('Enter word')\n",
    "    if line == 'done':\n",
    "        break\n",
    "    print(line)\n",
    "print('Done!')"
   ]
  },
  {
   "cell_type": "markdown",
   "id": "b6807493",
   "metadata": {},
   "source": [
    "### using continue\n",
    "goes on top of loop"
   ]
  },
  {
   "cell_type": "code",
   "execution_count": null,
   "id": "1f37834a",
   "metadata": {},
   "outputs": [],
   "source": [
    "#continue skips to top of the lop so does not print line\n",
    "while True:\n",
    "    line = input('Enter word')\n",
    "    if line == '#':\n",
    "        continue\n",
    "    if line == 'done':\n",
    "        break\n",
    "    print(line)\n",
    "print('Done')"
   ]
  },
  {
   "cell_type": "markdown",
   "id": "17f08383",
   "metadata": {},
   "source": [
    "# DEFINITE LOOP\n",
    "## use for for definite loop"
   ]
  },
  {
   "cell_type": "code",
   "execution_count": null,
   "id": "ecd692cd",
   "metadata": {},
   "outputs": [],
   "source": [
    "for i in [5,4,3,2]:\n",
    "    print(i)\n",
    "print('blast off')"
   ]
  },
  {
   "cell_type": "code",
   "execution_count": null,
   "id": "1699032a",
   "metadata": {},
   "outputs": [],
   "source": [
    "friends = ['Joy','Hellen', 'Eve']\n",
    "for i in friends:\n",
    "    print('Happy New Year',i)\n",
    "print('Done')"
   ]
  },
  {
   "cell_type": "markdown",
   "id": "adce0061",
   "metadata": {},
   "source": [
    "# FINDING LARGEST VALUE"
   ]
  },
  {
   "cell_type": "code",
   "execution_count": null,
   "id": "c75fb11d",
   "metadata": {},
   "outputs": [],
   "source": [
    "largest_so_far = -1\n",
    "for the_num in [9,41,12,3,74,13]:\n",
    "    if the_num > largest_so_far:\n",
    "        largest_so_far = the_num\n",
    "    print(largest_so_far)\n",
    "print('After',largest_so_far)\n",
    "      "
   ]
  },
  {
   "cell_type": "markdown",
   "id": "1dc0c6a2",
   "metadata": {},
   "source": [
    "# LOOP IDIOMS\n",
    "# Counting in a loop"
   ]
  },
  {
   "cell_type": "code",
   "execution_count": null,
   "id": "fd545b04",
   "metadata": {},
   "outputs": [],
   "source": [
    "#if adding in a loop start with initial value x+=1\n",
    "#number of counts execute loop\n",
    "x = 0\n",
    "for i in range(3):\n",
    "    x=x+1\n",
    "    print(x)\n",
    "print('done')"
   ]
  },
  {
   "cell_type": "code",
   "execution_count": null,
   "id": "d4df086f",
   "metadata": {},
   "outputs": [],
   "source": [
    "print(range(3))"
   ]
  },
  {
   "cell_type": "code",
   "execution_count": null,
   "id": "184cca0a",
   "metadata": {},
   "outputs": [],
   "source": [
    "#count number of times loop executed\n",
    "x= 0\n",
    "for names in ['Joy', 'Eve', 'Elton']:\n",
    "    x+=1\n",
    "    print(x, names)\n",
    "print('done')"
   ]
  },
  {
   "cell_type": "markdown",
   "id": "6ac6a718",
   "metadata": {},
   "source": [
    "# Summing in a Loop"
   ]
  },
  {
   "cell_type": "code",
   "execution_count": null,
   "id": "2ab05ce7",
   "metadata": {},
   "outputs": [],
   "source": [
    "x = 0\n",
    "for value in [9,41,12,3,74,13]:\n",
    "    x = x + value\n",
    "    print(x, value)\n",
    "print('After', x)"
   ]
  },
  {
   "cell_type": "markdown",
   "id": "5a4a734b",
   "metadata": {},
   "source": [
    "# Finding average in a loop"
   ]
  },
  {
   "cell_type": "code",
   "execution_count": null,
   "id": "59216604",
   "metadata": {},
   "outputs": [],
   "source": [
    "count = 0\n",
    "sum = 0\n",
    "for value in [9,41,12,3,74,13]:\n",
    "    count= count + 1\n",
    "    sum = sum + value \n",
    "    print(count, sum, value)\n",
    "print('After',count, sum, sum/count)"
   ]
  },
  {
   "cell_type": "markdown",
   "id": "b3ef6fc7",
   "metadata": {},
   "source": [
    "# Filtering"
   ]
  },
  {
   "cell_type": "code",
   "execution_count": null,
   "id": "f17fbc86",
   "metadata": {},
   "outputs": [],
   "source": [
    "print('Before')\n",
    "for value in [9,41,12,3,74,13]:\n",
    "    if value > 20:\n",
    "        print('Large number', value)\n",
    "print('After')"
   ]
  },
  {
   "cell_type": "markdown",
   "id": "8e76d861",
   "metadata": {},
   "source": [
    "# Boolean"
   ]
  },
  {
   "cell_type": "code",
   "execution_count": null,
   "id": "5ec959ee",
   "metadata": {},
   "outputs": [],
   "source": [
    "#could add a break after found= True to stop the loop from continuing\n",
    "found = False\n",
    "print('Before', found)\n",
    "for value in [9,41,12,3,74,13]:\n",
    "    if value ==3:\n",
    "        found = True\n",
    "    print(found, value)\n",
    "print('After')"
   ]
  },
  {
   "cell_type": "markdown",
   "id": "760c8841",
   "metadata": {},
   "source": [
    "# Find the smallest number in a loop"
   ]
  },
  {
   "cell_type": "code",
   "execution_count": null,
   "id": "9802e0af",
   "metadata": {},
   "outputs": [],
   "source": [
    "#to get 3\n",
    "smallest_so_far = 4\n",
    "for the_num in [9,41,12,3,74,13]:\n",
    "    if the_num < smallest_so_far:\n",
    "        smallest_so_far = the_num\n",
    "    print(smallest_so_far)\n",
    "print('After',smallest_so_far)"
   ]
  },
  {
   "cell_type": "markdown",
   "id": "5a63be79",
   "metadata": {},
   "source": [
    "# None variable\n",
    "lack of value\n",
    "start with none number or value"
   ]
  },
  {
   "cell_type": "code",
   "execution_count": null,
   "id": "d2fd0bda",
   "metadata": {},
   "outputs": [],
   "source": [
    "#to get 3\n",
    "#flag number None\n",
    "# is or is not\n",
    "smallest = None\n",
    "for value in [9,41,12,3,74,13]:\n",
    "    if smallest is None:\n",
    "        smallest = value\n",
    "    elif value< smallest:\n",
    "        smallest = value\n",
    "    print(smallest, value)\n",
    "print('After',smallest)"
   ]
  },
  {
   "cell_type": "markdown",
   "id": "9e7e86a9",
   "metadata": {},
   "source": [
    "# Questions\n",
    "five times\n",
    "0+1=1\n",
    "1+1=2\n",
    "2+1=3\n",
    "3+1=4\n",
    "4+1=5"
   ]
  },
  {
   "cell_type": "code",
   "execution_count": null,
   "id": "5f1c0296",
   "metadata": {},
   "outputs": [],
   "source": [
    "tot = 0 \n",
    "for i in [5, 4, 3, 2, 1] :\n",
    "    tot = tot + 1\n",
    "print(tot)\n"
   ]
  },
  {
   "cell_type": "markdown",
   "id": "6d95f9f2",
   "metadata": {},
   "source": [
    "# SUM"
   ]
  },
  {
   "cell_type": "code",
   "execution_count": null,
   "id": "ab9f6112",
   "metadata": {},
   "outputs": [],
   "source": [
    "zork = 0\n",
    "for thing in [9, 41, 12, 3, 74, 15] :\n",
    "    zork = zork + thing\n",
    "print('After', zork)"
   ]
  },
  {
   "cell_type": "markdown",
   "id": "a8fb89d9",
   "metadata": {},
   "source": [
    "# 5.2 Write a program that repeatedly prompts a user for integer numbers until the user enters 'done'. Once 'done' is entered, print out the largest and smallest of the numbers. If the user enters anything other than a valid number catch it with a try/except and put out an appropriate message and ignore the number. Enter 7, 2, bob, 10, and 4 and match the output below."
   ]
  },
  {
   "cell_type": "code",
   "execution_count": null,
   "id": "4c6ee0d5",
   "metadata": {},
   "outputs": [],
   "source": [
    "#initialize variables to store largest and smallest number\n",
    "largest = None\n",
    "smallest = None\n",
    "\n",
    "#prompt user for integer number\n",
    "\n",
    "while True:\n",
    "    user_input = input('Enter an integer number \\n')\n",
    "\n",
    "#check if user wants to finish input\n",
    "    if user_input == 'done':\n",
    "        break\n",
    "    \n",
    "#convert input to integer using try and except\n",
    "    try:\n",
    "        num = int(user_input)\n",
    "    except:\n",
    "        print ('Invalid input')\n",
    "    \n",
    "#updated largest and smallest based on input\n",
    "    if largest is None or num > largest:\n",
    "        largest = num\n",
    "    if smallest is None or num < smallest:\n",
    "        smallest = num\n",
    "    \n",
    "#print the largest and smallest input from user\n",
    "\n",
    "print('Maximum is',largest)\n",
    "print('Minimum is',smallest)\n",
    "        "
   ]
  },
  {
   "cell_type": "code",
   "execution_count": null,
   "id": "36ab8c15",
   "metadata": {},
   "outputs": [],
   "source": [
    "largest = None\n",
    "smallest = None\n",
    "\n",
    "while True:\n",
    "    user_input = input('Enter name')\n",
    "    if user_input == 'done':\n",
    "        break\n",
    "    try:\n",
    "        num = int(user_input)\n",
    "    except:\n",
    "        print('Invalid input')\n",
    "        continue\n",
    "   \n",
    "    if largest is None or num > largest:\n",
    "        largest = num\n",
    "        \n",
    "    if smallest is None or num < smallest:\n",
    "        smallest = num\n",
    "print('Maximum is',largest)\n",
    "print('Minimum is',smallest)\n",
    "        \n",
    "        "
   ]
  }
 ],
 "metadata": {
  "kernelspec": {
   "display_name": "Python 3 (ipykernel)",
   "language": "python",
   "name": "python3"
  },
  "language_info": {
   "codemirror_mode": {
    "name": "ipython",
    "version": 3
   },
   "file_extension": ".py",
   "mimetype": "text/x-python",
   "name": "python",
   "nbconvert_exporter": "python",
   "pygments_lexer": "ipython3",
   "version": "3.9.7"
  }
 },
 "nbformat": 4,
 "nbformat_minor": 5
}
