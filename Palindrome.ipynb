{
 "cells": [
  {
   "cell_type": "markdown",
   "metadata": {
    "id": "sacaQcFR844k"
   },
   "source": [
    "# If the string is reversed, would it be the same as the original string\n"
   ]
  },
  {
   "cell_type": "markdown",
   "metadata": {},
   "source": [
    "# For loop"
   ]
  },
  {
   "cell_type": "code",
   "execution_count": 1,
   "metadata": {
    "id": "WZr5kL506gl4"
   },
   "outputs": [
    {
     "name": "stdout",
     "output_type": "stream",
     "text": [
      "Enter word to check if it is a palindrome\n",
      "madam\n",
      "Palindrome\n"
     ]
    }
   ],
   "source": [
    "#allow user to input word and correct to lower incase words are case sensitvie\n",
    "word = input('Enter word to check if it is a palindrome\\n').lower()\n",
    "\n",
    "#assume word is palindrome until proven otherwise\n",
    "is_palindrome = True\n",
    "\n",
    "for n in range(len(word)//2):\n",
    "    if word[n]!= word[-n-1]:\n",
    "        is_palindrome = False\n",
    "        break #exit loop\n",
    "if is_palindrome:\n",
    "    print('Palindrome')\n",
    "else:\n",
    "    print('Not a palindrome')\n",
    "        "
   ]
  },
  {
   "cell_type": "markdown",
   "metadata": {},
   "source": [
    "# While Loop"
   ]
  },
  {
   "cell_type": "code",
   "execution_count": 2,
   "metadata": {},
   "outputs": [
    {
     "name": "stdout",
     "output_type": "stream",
     "text": [
      "Enter wordracecar\n",
      "IS palindrome\n"
     ]
    }
   ],
   "source": [
    "# definite boundaries left, right\n",
    "#define initial variables\n",
    "word = input('Enter word')\n",
    "left_index = 0\n",
    "right_index = len(word) -1 \n",
    "is_palindrome = True\n",
    "\n",
    "while left_index < right_index:\n",
    "    if word[left_index]!=word[right_index]:\n",
    "        is_palindrome =False\n",
    "        break\n",
    "    left_index+=1\n",
    "    right_index-=1\n",
    "if is_palindrome:\n",
    "    print('IS palindrome')\n",
    "else:\n",
    "    print('Is not palindrome')"
   ]
  },
  {
   "cell_type": "code",
   "execution_count": 8,
   "metadata": {
    "colab": {
     "base_uri": "https://localhost:8080/"
    },
    "id": "6iwpInWA9Dcm",
    "outputId": "7eb36e41-306f-499e-a4bc-d4f92249ac2b"
   },
   "outputs": [
    {
     "name": "stdout",
     "output_type": "stream",
     "text": [
      "True\n"
     ]
    }
   ],
   "source": [
    "# reverse the string\n",
    "string = 'racecar'\n",
    "reversed_string = string[::-1]\n",
    "if reversed_string == string:\n",
    "  print ('True')\n",
    "else:\n",
    "  print('False')\n",
    "\n"
   ]
  },
  {
   "cell_type": "code",
   "execution_count": null,
   "metadata": {},
   "outputs": [],
   "source": []
  }
 ],
 "metadata": {
  "colab": {
   "provenance": []
  },
  "kernelspec": {
   "display_name": "Python 3 (ipykernel)",
   "language": "python",
   "name": "python3"
  },
  "language_info": {
   "codemirror_mode": {
    "name": "ipython",
    "version": 3
   },
   "file_extension": ".py",
   "mimetype": "text/x-python",
   "name": "python",
   "nbconvert_exporter": "python",
   "pygments_lexer": "ipython3",
   "version": "3.9.7"
  }
 },
 "nbformat": 4,
 "nbformat_minor": 1
}
