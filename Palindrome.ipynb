{
  "nbformat": 4,
  "nbformat_minor": 0,
  "metadata": {
    "colab": {
      "provenance": []
    },
    "kernelspec": {
      "name": "python3",
      "display_name": "Python 3"
    },
    "language_info": {
      "name": "python"
    }
  },
  "cells": [
    {
      "cell_type": "code",
      "execution_count": null,
      "metadata": {
        "id": "WZr5kL506gl4"
      },
      "outputs": [],
      "source": []
    },
    {
      "cell_type": "markdown",
      "source": [
        "# If the string is reversed, would it be the same as the original string\n"
      ],
      "metadata": {
        "id": "sacaQcFR844k"
      }
    },
    {
      "cell_type": "code",
      "source": [
        "# reverse the string\n",
        "string = 'racecar'\n",
        "reversed_string = string[::-1]\n",
        "if reversed_string == string:\n",
        "  print ('True')\n",
        "else:\n",
        "  print('False')\n",
        "\n"
      ],
      "metadata": {
        "colab": {
          "base_uri": "https://localhost:8080/"
        },
        "id": "6iwpInWA9Dcm",
        "outputId": "7eb36e41-306f-499e-a4bc-d4f92249ac2b"
      },
      "execution_count": 8,
      "outputs": [
        {
          "output_type": "stream",
          "name": "stdout",
          "text": [
            "True\n"
          ]
        }
      ]
    }
  ]
}