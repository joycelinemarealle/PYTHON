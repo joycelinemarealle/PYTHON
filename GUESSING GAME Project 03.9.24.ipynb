{
 "cells": [
  {
   "cell_type": "markdown",
   "metadata": {},
   "source": [
    "# Task #1 Understand Variables assignment"
   ]
  },
  {
   "cell_type": "code",
   "execution_count": null,
   "metadata": {},
   "outputs": [],
   "source": [
    "#Define a variable and assign number (integer) to it\n",
    "# integer is a whole number (no decimales) that could be positive or negative\n",
    "x = 200\n"
   ]
  },
  {
   "cell_type": "code",
   "execution_count": null,
   "metadata": {},
   "outputs": [],
   "source": [
    "#view X\n",
    "x"
   ]
  },
  {
   "cell_type": "code",
   "execution_count": null,
   "metadata": {},
   "outputs": [],
   "source": [
    "#define another variable y and assignm a number (float)\n",
    "#float are real numbers\n",
    "y=500.5"
   ]
  },
  {
   "cell_type": "code",
   "execution_count": null,
   "metadata": {},
   "outputs": [],
   "source": [
    "#view y\n",
    "y"
   ]
  },
  {
   "cell_type": "code",
   "execution_count": null,
   "metadata": {},
   "outputs": [],
   "source": [
    "#overwrite \"y\"\n",
    "y= 300.5"
   ]
  },
  {
   "cell_type": "code",
   "execution_count": null,
   "metadata": {},
   "outputs": [],
   "source": [
    "#view y\n",
    "y\n"
   ]
  },
  {
   "cell_type": "code",
   "execution_count": null,
   "metadata": {},
   "outputs": [],
   "source": [
    "#want to see data type\n",
    "print( 'x is' , type(x), 'and y is', type(y))\n"
   ]
  },
  {
   "cell_type": "markdown",
   "metadata": {},
   "source": [
    "# TASK #2 perform math operation"
   ]
  },
  {
   "cell_type": "code",
   "execution_count": null,
   "metadata": {},
   "outputs": [],
   "source": [
    "#define a variable named i\n",
    "i = 20\n",
    "i= i + 4 \n",
    "i"
   ]
  },
  {
   "cell_type": "code",
   "execution_count": null,
   "metadata": {},
   "outputs": [],
   "source": [
    "#grocery store , price of bottle of milk $3 and there are 50 bottles. What is the value of inventory\n",
    "count = 50\n",
    "price = 3\n",
    "inventory = count * price\n",
    "print ( inventory)"
   ]
  },
  {
   "cell_type": "code",
   "execution_count": null,
   "metadata": {},
   "outputs": [],
   "source": [
    "#assume have $550 , want to buy x number of IBM stocks using total amount. Each stock is priced at $128\n",
    "\n",
    "account= 550\n",
    "IBM_price= 128\n",
    "shares= account/IBM_price\n",
    "shares"
   ]
  },
  {
   "cell_type": "markdown",
   "metadata": {},
   "source": [
    "MINI CHALLENGE #2 \n",
    "> Write a code that takes in APPLE(AAPL) stock prices at two days and calculate the return\n",
    "*  AAPL price on day 1 = $135\n",
    "* AAPL  price on day 2 = $150\n"
   ]
  },
  {
   "cell_type": "code",
   "execution_count": null,
   "metadata": {},
   "outputs": [],
   "source": [
    "p1= 135\n",
    "p2=150\n",
    "price_diff= p2-p1\n",
    "percentage_change= (price_diff/ p1) *100\n",
    "percentage_change"
   ]
  },
  {
   "cell_type": "markdown",
   "metadata": {},
   "source": [
    "# Task #3 print and input operations\n",
    "\n"
   ]
  },
  {
   "cell_type": "code",
   "execution_count": null,
   "metadata": {},
   "outputs": [],
   "source": [
    "#print function is used to print element on the screen\n",
    "#define a string x\n",
    "# a string is  asequence of characters\n",
    "# \" \" or ''\n",
    "x= \"welcome to python programming\"\n",
    "print (x)"
   ]
  },
  {
   "cell_type": "code",
   "execution_count": null,
   "metadata": {},
   "outputs": [],
   "source": [
    "#obtain the data type for 'x'\n",
    "type(x)"
   ]
  },
  {
   "cell_type": "code",
   "execution_count": null,
   "metadata": {},
   "outputs": [],
   "source": [
    "#the format () method formats specified value and insert it in the placeholder\n",
    "# The placeholder is defined using curly braces: {}\n",
    "company_name= 'Amazon'\n",
    "shares =500\n",
    "print (\"I own {} shares of {}\".format(shares, company_name))"
   ]
  },
  {
   "cell_type": "code",
   "execution_count": null,
   "metadata": {},
   "outputs": [],
   "source": [
    "#input is a built in function in python\n",
    "#obtain client data such as name, county, email and print them all out on the \n",
    "#in[*] is in a loop need to insert data\n",
    "name = input('Welcome to the store, please entre your name:')\n",
    "country= input('Enter your country:')\n",
    "email= input('Enter your e-mail:')\n"
   ]
  },
  {
   "cell_type": "code",
   "execution_count": null,
   "metadata": {},
   "outputs": [],
   "source": [
    "print ('My name is {}, I live in {} and my email is {}'.format(name, country, email))"
   ]
  },
  {
   "cell_type": "markdown",
   "metadata": {},
   "source": [
    "MINI challenge #2\n",
    "> Wite a code that takes in name of stock, buying price, the number of sotcks and print out total funds required to buy this stock. Example of a sample\n",
    "* enter price of stock : 3000\n",
    "*  enter number of stocks want to buy : 5\n",
    "* enter name of stocks you want to buy: AMZN\n",
    "* The total funds required to buy 5 number of AMZN stocks at 3000 is : 15000"
   ]
  },
  {
   "cell_type": "code",
   "execution_count": null,
   "metadata": {},
   "outputs": [],
   "source": [
    "price = 3000\n",
    "shares = 5\n",
    "stock_name = 'AMZN'\n",
    "funds_required= price* shares\n",
    "print('The total funds required to buy {} number of {} stocks at {} is ${}'. format(shares,stock_name, price, funds_required))\n"
   ]
  },
  {
   "cell_type": "code",
   "execution_count": null,
   "metadata": {},
   "outputs": [],
   "source": [
    "#convert values to integers since converting from string to integer\n",
    "price = input ('Enter the  price you want to buy a stock:$ ')\n",
    "price = int(price)\n",
    "\n",
    "shares= input ('Enter the amount stocks you want to buy: ')\n",
    "shares=int(price)\n",
    "\n",
    "stock_name= input('Enter the stock you want to buy: ')\n",
    "\n",
    "print ('The total funds required to buy {} number of {} stocks at {} is ${}'.format(shares,stock_name,price,price*shares))                               "
   ]
  },
  {
   "cell_type": "markdown",
   "metadata": {},
   "source": [
    "# Task 4 Data type"
   ]
  },
  {
   "cell_type": "code",
   "execution_count": null,
   "metadata": {},
   "outputs": [],
   "source": [
    "# A list is a collection which is ordered and changeable\n",
    "#List allows duplicate members\n",
    "grocery = ['oranges', 'apples', 'bananas']\n",
    "print(grocery)"
   ]
  },
  {
   "cell_type": "code",
   "execution_count": null,
   "metadata": {},
   "outputs": [],
   "source": [
    "#obtain the data type\n",
    "type(grocery)"
   ]
  },
  {
   "cell_type": "code",
   "execution_count": null,
   "metadata": {},
   "outputs": [],
   "source": [
    "#Acess specific elements in the list with indexing\n",
    "#the first element has index of 0\n",
    "grocery[0]"
   ]
  },
  {
   "cell_type": "markdown",
   "metadata": {},
   "source": [
    "MINI CHALLENGE #4\n",
    "> Print the first, second and last element in the list below"
   ]
  },
  {
   "cell_type": "code",
   "execution_count": null,
   "metadata": {},
   "outputs": [],
   "source": [
    "grocery_list = ['milk', 'rice', 'eggs', 'bread', 'oranges', 'water']\n",
    "\n",
    "print (grocery_list[0],grocery_list[1],grocery_list[2])"
   ]
  },
  {
   "cell_type": "code",
   "execution_count": null,
   "metadata": {},
   "outputs": [],
   "source": [
    "#last item on list\n",
    "grocery_list[-1]"
   ]
  },
  {
   "cell_type": "code",
   "execution_count": null,
   "metadata": {},
   "outputs": [],
   "source": [
    "#second last item on list\n",
    "grocery_list[-2]"
   ]
  },
  {
   "cell_type": "markdown",
   "metadata": {},
   "source": [
    "# Task #5 Understand comparision operators and conditional statements"
   ]
  },
  {
   "cell_type": "code",
   "execution_count": null,
   "metadata": {},
   "outputs": [],
   "source": [
    "#Comparision operator output could be 'True' or 'False'\n",
    "#Let's cover equal '==' comparision operator first\n",
    "# It's simply a question: 'Is x equal y or not?'\n",
    "# 'True' output means condition is satisfied\n",
    "# 'False' output means condition is not satisfied ( condition is not true)\n",
    "x = 500\n",
    "y = 600\n",
    "x == y"
   ]
  },
  {
   "cell_type": "code",
   "execution_count": null,
   "metadata": {},
   "outputs": [],
   "source": [
    "#Greater than or equal operator '>='\n",
    "x = 20\n",
    "y = 40\n",
    "x >= y"
   ]
  },
  {
   "cell_type": "code",
   "execution_count": null,
   "metadata": {},
   "outputs": [],
   "source": [
    "# Note that '==' is  a comparision operator\n",
    "# Note that '=' is used for variable assignment"
   ]
  },
  {
   "cell_type": "markdown",
   "metadata": {},
   "source": [
    "* A simple if- else statement is written in  Python as follow:\n",
    ">\n",
    "if condition\n",
    " * Statement #1\n",
    " >\n",
    " else:\n",
    " * statement #2"
   ]
  },
  {
   "cell_type": "markdown",
   "metadata": {},
   "source": [
    ">* if condition is true, execute indented statement\n",
    "* if condition is not true, execute the else indented statements\n",
    "* note that python uses indentation to indicate code sections"
   ]
  },
  {
   "cell_type": "code",
   "execution_count": null,
   "metadata": {},
   "outputs": [],
   "source": [
    "#let's take an input from user and grant or deny access accordingly\n",
    "#convert str to inte\n",
    "age = input('Enter your age: ')\n",
    "age= int(age)\n",
    "if age >= 18: \n",
    "    print(' Acess granted')\n",
    "else:\n",
    "    print ('Acess denied')"
   ]
  },
  {
   "cell_type": "code",
   "execution_count": null,
   "metadata": {},
   "outputs": [],
   "source": [
    "name = input('Enter your name: ')\n",
    "if name == 'Joyceline': \n",
    "    print(' Acess granted')\n",
    "else:\n",
    "    print ('Acess denied')"
   ]
  },
  {
   "cell_type": "code",
   "execution_count": null,
   "metadata": {},
   "outputs": [],
   "source": [
    "x= input('Please enter an integer from 1 to 1000')\n",
    "x=int(x)\n",
    "if x % 2 == 0:\n",
    "    print ('Number is even')\n",
    "else:\n",
    "    print('Number is odd')"
   ]
  },
  {
   "cell_type": "markdown",
   "metadata": {},
   "source": [
    "MINI CHALLENGE #5\n",
    "> * Write a code that takes a number from the user and indicates if its positive or negative"
   ]
  },
  {
   "cell_type": "code",
   "execution_count": null,
   "metadata": {},
   "outputs": [],
   "source": [
    "number = input('Enter a number positive or negative')\n",
    "number = int(number)\n",
    "if number < 0:\n",
    "    print('Number is negative')\n",
    "elif X > 0:\n",
    "    print('Number is positive')\n",
    "else:\n",
    "    print('Number is zero')"
   ]
  },
  {
   "cell_type": "markdown",
   "metadata": {},
   "source": [
    "# Task #6 Develop functions in python"
   ]
  },
  {
   "cell_type": "code",
   "execution_count": null,
   "metadata": {},
   "outputs": [],
   "source": [
    "#Define a function that takes in two argument x and y and return\n",
    "def multiplication(x,y):\n",
    "    return x*y"
   ]
  },
  {
   "cell_type": "code",
   "execution_count": null,
   "metadata": {},
   "outputs": [],
   "source": [
    "#call the function\n",
    "multiplication(5,6)"
   ]
  },
  {
   "cell_type": "markdown",
   "metadata": {},
   "source": [
    "\n",
    "\n",
    "MINI CHALLENGE #6\n",
    "> * Write a code that takes three inputs from the user and calculates their sum"
   ]
  },
  {
   "cell_type": "code",
   "execution_count": null,
   "metadata": {},
   "outputs": [],
   "source": [
    "x = int(input('Enter value of x:'))\n",
    "y = int(input('Enter value of y:'))\n",
    "z =int(input('Enter value of z:'))\n",
    "\n",
    "def sum(x,y,z):\n",
    "    return (x+y+z)\n",
    "print( 'The sume of the values is', sum(x,y,z))"
   ]
  },
  {
   "cell_type": "markdown",
   "metadata": {},
   "source": [
    "# Task #7 UNDERSTAND FOR AND WHILE LOOPS"
   ]
  },
  {
   "cell_type": "code",
   "execution_count": null,
   "metadata": {},
   "outputs": [],
   "source": [
    "#List of strings\n",
    "grocery_list= ['milk','rice','eggs','bread','oranges','water']\n",
    "grocery_list"
   ]
  },
  {
   "cell_type": "code",
   "execution_count": null,
   "metadata": {},
   "outputs": [],
   "source": [
    "for i in grocery_list:\n",
    "  print(i)"
   ]
  },
  {
   "cell_type": "code",
   "execution_count": null,
   "metadata": {},
   "outputs": [],
   "source": [
    "#RANGE(GENERATES A List of numbers, which is used to iterate over with for loops)\n",
    "# range() is a 0-index based, meaning list indexes start at 0 not 1\n",
    "#the last integer generated by range() is up to, but not including, last element\n",
    "#example: range(0,7), generates integers from 0 up to but not including, 7\n",
    "for i in range(7):\n",
    "    print(i)"
   ]
  },
  {
   "cell_type": "code",
   "execution_count": null,
   "metadata": {},
   "outputs": [],
   "source": [
    "#while loop can be used to execute a set of statements as long as conditions hold true\n",
    "i = 1\n",
    "while i <= 10:\n",
    "    print(i)\n",
    "    i=i+1"
   ]
  },
  {
   "cell_type": "markdown",
   "metadata": {},
   "source": [
    "MINI CHALLENGE #7\n",
    "> * Write a code that displays numbers from 1 to 10 using for and while loops\n"
   ]
  },
  {
   "cell_type": "code",
   "execution_count": null,
   "metadata": {},
   "outputs": [],
   "source": [
    "for i in range (1,11):\n",
    "    print(i)"
   ]
  },
  {
   "cell_type": "code",
   "execution_count": null,
   "metadata": {},
   "outputs": [],
   "source": [
    "i=1\n",
    "while i <=10:\n",
    "    print(i)\n",
    "    i+1"
   ]
  },
  {
   "cell_type": "markdown",
   "metadata": {},
   "source": [
    "# TASK 8 CAPSTONE PROJECT\n",
    ">Develop a guessing game that performs the following:\n",
    "* The system will automatically generate a random number between 1 and 100\n",
    "* Users can insert any number between 1 and 100\n",
    "* The program shall be able to compare the number generated by the system and the number that has been entered by the useer. The program shall print out one of the following options to help user improve their next guess\n",
    ">> * You are right , great job!\n",
    ">> * Your guess is low, try again!\n",
    ">> * Your guess is high, try again!"
   ]
  },
  {
   "cell_type": "code",
   "execution_count": 1,
   "metadata": {},
   "outputs": [
    {
     "data": {
      "text/plain": [
       "95"
      ]
     },
     "execution_count": 1,
     "metadata": {},
     "output_type": "execute_result"
    }
   ],
   "source": [
    "import random\n",
    "true_number = random. randint(1,100)\n",
    "true_number\n"
   ]
  },
  {
   "cell_type": "code",
   "execution_count": null,
   "metadata": {},
   "outputs": [],
   "source": [
    "guessed_number= int(input('Enter any number between 1 to 100: '))\n",
    "guessed_number"
   ]
  },
  {
   "cell_type": "code",
   "execution_count": null,
   "metadata": {},
   "outputs": [],
   "source": [
    "#break to stop loop\n",
    "while True:\n",
    "    if guess_number == true_number:\n",
    "        print('You are right, great job')\n",
    "        break\n",
    "    elif true_number < guessed_number:\n",
    "        print('Your guess is high, try again? ')\n",
    "        guessed_number = int(input('Enter any number between 1 to 100: '))\n",
    "    \n",
    "    elif true_number > guessed_number:\n",
    "        print( 'Your guess is loq, try again')\n",
    "         guessed_number = int(input('Enter any number between 1 to 100: '))\n",
    "            "
   ]
  },
  {
   "cell_type": "code",
   "execution_count": null,
   "metadata": {},
   "outputs": [],
   "source": []
  },
  {
   "cell_type": "code",
   "execution_count": null,
   "metadata": {},
   "outputs": [],
   "source": []
  }
 ],
 "metadata": {
  "kernelspec": {
   "display_name": "Python 3",
   "language": "python",
   "name": "python3"
  },
  "language_info": {
   "codemirror_mode": {
    "name": "ipython",
    "version": 3
   },
   "file_extension": ".py",
   "mimetype": "text/x-python",
   "name": "python",
   "nbconvert_exporter": "python",
   "pygments_lexer": "ipython3",
   "version": "3.7.0"
  },
  "widgets": {
   "application/vnd.jupyter.widget-state+json": {
    "state": {},
    "version_major": 2,
    "version_minor": 0
   }
  }
 },
 "nbformat": 4,
 "nbformat_minor": 4
}
